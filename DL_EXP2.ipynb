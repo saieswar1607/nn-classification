{
  "nbformat": 4,
  "nbformat_minor": 0,
  "metadata": {
    "colab": {
      "provenance": []
    },
    "kernelspec": {
      "name": "python3",
      "display_name": "Python 3"
    },
    "language_info": {
      "name": "python"
    }
  },
  "cells": [
    {
      "cell_type": "code",
      "execution_count": 55,
      "metadata": {
        "id": "0DWwrz2ZdoV2"
      },
      "outputs": [],
      "source": [
        "import pandas as pd\n",
        "from sklearn.model_selection import train_test_split\n",
        "from tensorflow.keras.models import Sequential\n",
        "from tensorflow.keras.models import load_model\n",
        "import pickle\n",
        "from tensorflow.keras.layers import Dense\n",
        "from tensorflow.keras.layers import Dropout\n",
        "from tensorflow.keras.layers import BatchNormalization\n",
        "import tensorflow as tf\n",
        "import seaborn as sns\n",
        "from tensorflow.keras.callbacks import EarlyStopping\n",
        "from sklearn.preprocessing import MinMaxScaler\n",
        "from sklearn.preprocessing import LabelEncoder\n",
        "from sklearn.preprocessing import OneHotEncoder\n",
        "from sklearn.preprocessing import OrdinalEncoder\n",
        "from sklearn.metrics import classification_report,confusion_matrix\n",
        "import numpy as np\n",
        "import matplotlib.pylab as plt\n",
        "import sklearn.metrics as metrics"
      ]
    },
    {
      "cell_type": "code",
      "source": [
        "customer_df = pd.read_csv('customers.csv')"
      ],
      "metadata": {
        "id": "-MyIPaLde6gO"
      },
      "execution_count": 6,
      "outputs": []
    },
    {
      "cell_type": "code",
      "source": [
        "customer_df.columns"
      ],
      "metadata": {
        "colab": {
          "base_uri": "https://localhost:8080/"
        },
        "id": "COSz6Jave6iN",
        "outputId": "0833e077-dece-4eb4-e06c-3c3c04eddb0f"
      },
      "execution_count": null,
      "outputs": [
        {
          "output_type": "execute_result",
          "data": {
            "text/plain": [
              "Index(['ID', 'Gender', 'Ever_Married', 'Age', 'Graduated', 'Profession',\n",
              "       'Work_Experience', 'Spending_Score', 'Family_Size', 'Var_1',\n",
              "       'Segmentation'],\n",
              "      dtype='object')"
            ]
          },
          "metadata": {},
          "execution_count": 5
        }
      ]
    },
    {
      "cell_type": "code",
      "source": [
        "customer_df.dtypes"
      ],
      "metadata": {
        "colab": {
          "base_uri": "https://localhost:8080/"
        },
        "id": "e-Osk4d_e6ky",
        "outputId": "f71ef641-e8af-43ab-8285-9c114af29ab9"
      },
      "execution_count": 7,
      "outputs": [
        {
          "output_type": "execute_result",
          "data": {
            "text/plain": [
              "ID                   int64\n",
              "Gender              object\n",
              "Ever_Married        object\n",
              "Age                  int64\n",
              "Graduated           object\n",
              "Profession          object\n",
              "Work_Experience    float64\n",
              "Spending_Score      object\n",
              "Family_Size        float64\n",
              "Var_1               object\n",
              "Segmentation        object\n",
              "dtype: object"
            ]
          },
          "metadata": {},
          "execution_count": 7
        }
      ]
    },
    {
      "cell_type": "code",
      "source": [
        "customer_df.shape\n"
      ],
      "metadata": {
        "colab": {
          "base_uri": "https://localhost:8080/"
        },
        "id": "ZY1_eGJEe6nI",
        "outputId": "1d03acb2-34fa-4b26-d718-c5325bc890ac"
      },
      "execution_count": 10,
      "outputs": [
        {
          "output_type": "execute_result",
          "data": {
            "text/plain": [
              "(10695, 11)"
            ]
          },
          "metadata": {},
          "execution_count": 10
        }
      ]
    },
    {
      "cell_type": "code",
      "source": [
        "customer_df.isnull().sum()"
      ],
      "metadata": {
        "colab": {
          "base_uri": "https://localhost:8080/"
        },
        "id": "dXYOqZWge6pu",
        "outputId": "ebb3ffa3-98af-4cbe-e05c-4505858c97f5"
      },
      "execution_count": 9,
      "outputs": [
        {
          "output_type": "execute_result",
          "data": {
            "text/plain": [
              "ID                    0\n",
              "Gender                0\n",
              "Ever_Married        190\n",
              "Age                   0\n",
              "Graduated           102\n",
              "Profession          162\n",
              "Work_Experience    1098\n",
              "Spending_Score        0\n",
              "Family_Size         448\n",
              "Var_1               108\n",
              "Segmentation          0\n",
              "dtype: int64"
            ]
          },
          "metadata": {},
          "execution_count": 9
        }
      ]
    },
    {
      "cell_type": "code",
      "source": [
        "customer_df_cleaned = customer_df.dropna(axis=0)"
      ],
      "metadata": {
        "id": "AmHL1_-VgFSr"
      },
      "execution_count": 11,
      "outputs": []
    },
    {
      "cell_type": "code",
      "source": [
        "customer_df_cleaned.isnull().sum()"
      ],
      "metadata": {
        "colab": {
          "base_uri": "https://localhost:8080/"
        },
        "id": "n2q-qdd0gFV9",
        "outputId": "c9116366-04bb-428b-ce09-efc49cc119a7"
      },
      "execution_count": 12,
      "outputs": [
        {
          "output_type": "execute_result",
          "data": {
            "text/plain": [
              "ID                 0\n",
              "Gender             0\n",
              "Ever_Married       0\n",
              "Age                0\n",
              "Graduated          0\n",
              "Profession         0\n",
              "Work_Experience    0\n",
              "Spending_Score     0\n",
              "Family_Size        0\n",
              "Var_1              0\n",
              "Segmentation       0\n",
              "dtype: int64"
            ]
          },
          "metadata": {},
          "execution_count": 12
        }
      ]
    },
    {
      "cell_type": "code",
      "source": [
        "customer_df_cleaned.shape"
      ],
      "metadata": {
        "colab": {
          "base_uri": "https://localhost:8080/"
        },
        "id": "LdIunDdcgFZq",
        "outputId": "05c4b150-614f-4aaf-a54d-af60e13d9683"
      },
      "execution_count": 13,
      "outputs": [
        {
          "output_type": "execute_result",
          "data": {
            "text/plain": [
              "(8819, 11)"
            ]
          },
          "metadata": {},
          "execution_count": 13
        }
      ]
    },
    {
      "cell_type": "code",
      "source": [
        "customer_df_cleaned.dtypes"
      ],
      "metadata": {
        "colab": {
          "base_uri": "https://localhost:8080/"
        },
        "id": "EujEIjKLgFfL",
        "outputId": "6695a5d2-d73b-4bd2-f769-c470367a5444"
      },
      "execution_count": 14,
      "outputs": [
        {
          "output_type": "execute_result",
          "data": {
            "text/plain": [
              "ID                   int64\n",
              "Gender              object\n",
              "Ever_Married        object\n",
              "Age                  int64\n",
              "Graduated           object\n",
              "Profession          object\n",
              "Work_Experience    float64\n",
              "Spending_Score      object\n",
              "Family_Size        float64\n",
              "Var_1               object\n",
              "Segmentation        object\n",
              "dtype: object"
            ]
          },
          "metadata": {},
          "execution_count": 14
        }
      ]
    },
    {
      "cell_type": "code",
      "source": [
        "customer_df_cleaned['Gender'].unique()"
      ],
      "metadata": {
        "colab": {
          "base_uri": "https://localhost:8080/"
        },
        "id": "x3UFth7hgFmJ",
        "outputId": "a8f23d96-254e-40d5-c54c-8d24a8f7f0c1"
      },
      "execution_count": 15,
      "outputs": [
        {
          "output_type": "execute_result",
          "data": {
            "text/plain": [
              "array(['Male', 'Female'], dtype=object)"
            ]
          },
          "metadata": {},
          "execution_count": 15
        }
      ]
    },
    {
      "cell_type": "code",
      "source": [
        "customer_df_cleaned['Ever_Married'].unique()"
      ],
      "metadata": {
        "colab": {
          "base_uri": "https://localhost:8080/"
        },
        "id": "Rx9YHWRZgUgV",
        "outputId": "a2818f7f-f924-4390-bf75-e36698560ae6"
      },
      "execution_count": 16,
      "outputs": [
        {
          "output_type": "execute_result",
          "data": {
            "text/plain": [
              "array(['No', 'Yes'], dtype=object)"
            ]
          },
          "metadata": {},
          "execution_count": 16
        }
      ]
    },
    {
      "cell_type": "code",
      "source": [
        "customer_df_cleaned['Graduated'].unique()"
      ],
      "metadata": {
        "id": "kTJY8_RKgUi4",
        "colab": {
          "base_uri": "https://localhost:8080/"
        },
        "outputId": "a71fa239-5f87-4800-9d5e-b0aa94bd2532"
      },
      "execution_count": 17,
      "outputs": [
        {
          "output_type": "execute_result",
          "data": {
            "text/plain": [
              "array(['No', 'Yes'], dtype=object)"
            ]
          },
          "metadata": {},
          "execution_count": 17
        }
      ]
    },
    {
      "cell_type": "code",
      "source": [
        "customer_df_cleaned['Profession'].unique()"
      ],
      "metadata": {
        "id": "9o83H44NgUlf",
        "colab": {
          "base_uri": "https://localhost:8080/"
        },
        "outputId": "9f5fc8fc-9b0c-465b-bf21-db99206fb41c"
      },
      "execution_count": 18,
      "outputs": [
        {
          "output_type": "execute_result",
          "data": {
            "text/plain": [
              "array(['Healthcare', 'Engineer', 'Lawyer', 'Artist', 'Doctor',\n",
              "       'Homemaker', 'Entertainment', 'Marketing', 'Executive'],\n",
              "      dtype=object)"
            ]
          },
          "metadata": {},
          "execution_count": 18
        }
      ]
    },
    {
      "cell_type": "code",
      "source": [
        "customer_df_cleaned['Spending_Score'].unique()"
      ],
      "metadata": {
        "id": "xIHKw474gUn1",
        "colab": {
          "base_uri": "https://localhost:8080/"
        },
        "outputId": "6e8f4820-5621-4b2b-c29d-7a778986f07e"
      },
      "execution_count": 19,
      "outputs": [
        {
          "output_type": "execute_result",
          "data": {
            "text/plain": [
              "array(['Low', 'High', 'Average'], dtype=object)"
            ]
          },
          "metadata": {},
          "execution_count": 19
        }
      ]
    },
    {
      "cell_type": "code",
      "source": [
        "customer_df_cleaned['Var_1'].unique()"
      ],
      "metadata": {
        "colab": {
          "base_uri": "https://localhost:8080/"
        },
        "id": "RIes5VDtd2K9",
        "outputId": "6e754cb1-dd3c-43fb-c200-614769a72948"
      },
      "execution_count": 20,
      "outputs": [
        {
          "output_type": "execute_result",
          "data": {
            "text/plain": [
              "array(['Cat_4', 'Cat_6', 'Cat_7', 'Cat_3', 'Cat_1', 'Cat_2', 'Cat_5'],\n",
              "      dtype=object)"
            ]
          },
          "metadata": {},
          "execution_count": 20
        }
      ]
    },
    {
      "cell_type": "code",
      "source": [
        "customer_df_cleaned['Segmentation'].unique()"
      ],
      "metadata": {
        "colab": {
          "base_uri": "https://localhost:8080/"
        },
        "id": "Jhv7oHnmd2NI",
        "outputId": "01d05d6e-a0db-44e3-f52c-6b53b0bbebd9"
      },
      "execution_count": 21,
      "outputs": [
        {
          "output_type": "execute_result",
          "data": {
            "text/plain": [
              "array(['D', 'B', 'C', 'A'], dtype=object)"
            ]
          },
          "metadata": {},
          "execution_count": 21
        }
      ]
    },
    {
      "cell_type": "code",
      "source": [
        "categories_list=[['Male', 'Female'],\n",
        "           ['No', 'Yes'],\n",
        "           ['No', 'Yes'],\n",
        "           ['Healthcare', 'Engineer', 'Lawyer', 'Artist', 'Doctor',\n",
        "            'Homemaker', 'Entertainment', 'Marketing', 'Executive'],\n",
        "           ['Low', 'Average', 'High']\n",
        "           ]\n",
        "enc = OrdinalEncoder(categories=categories_list)"
      ],
      "metadata": {
        "id": "1sA6Frfqd2Pw"
      },
      "execution_count": 22,
      "outputs": []
    },
    {
      "cell_type": "code",
      "source": [
        "customers_1 = customer_df_cleaned.copy()"
      ],
      "metadata": {
        "id": "Cj7I0Nf9d2SG"
      },
      "execution_count": 23,
      "outputs": []
    },
    {
      "cell_type": "code",
      "source": [
        "customers_1[['Gender',\n",
        "             'Ever_Married',\n",
        "              'Graduated','Profession',\n",
        "              'Spending_Score']] = enc.fit_transform(customers_1[['Gender',\n",
        "                                                                 'Ever_Married',\n",
        "                                                                 'Graduated','Profession',\n",
        "                                                                 'Spending_Score']])"
      ],
      "metadata": {
        "id": "r9y8MPPkd2Us"
      },
      "execution_count": 24,
      "outputs": []
    },
    {
      "cell_type": "code",
      "source": [
        "customers_1.dtypes"
      ],
      "metadata": {
        "colab": {
          "base_uri": "https://localhost:8080/"
        },
        "id": "WcUbmiPPd2XD",
        "outputId": "52286d74-c63f-4847-f53b-4562bb70c453"
      },
      "execution_count": 25,
      "outputs": [
        {
          "output_type": "execute_result",
          "data": {
            "text/plain": [
              "ID                   int64\n",
              "Gender             float64\n",
              "Ever_Married       float64\n",
              "Age                  int64\n",
              "Graduated          float64\n",
              "Profession         float64\n",
              "Work_Experience    float64\n",
              "Spending_Score     float64\n",
              "Family_Size        float64\n",
              "Var_1               object\n",
              "Segmentation        object\n",
              "dtype: object"
            ]
          },
          "metadata": {},
          "execution_count": 25
        }
      ]
    },
    {
      "cell_type": "code",
      "source": [
        "le = LabelEncoder()\n",
        "\n",
        "customers_1['Segmentation'] = le.fit_transform(customers_1['Segmentation'])"
      ],
      "metadata": {
        "id": "0fmCZy__ehZ3"
      },
      "execution_count": 26,
      "outputs": []
    },
    {
      "cell_type": "code",
      "source": [
        "customers_1.dtypes"
      ],
      "metadata": {
        "colab": {
          "base_uri": "https://localhost:8080/"
        },
        "id": "l5OaNwa7ehcH",
        "outputId": "43a65e28-c04d-40ab-fbce-684a601517dd"
      },
      "execution_count": 27,
      "outputs": [
        {
          "output_type": "execute_result",
          "data": {
            "text/plain": [
              "ID                   int64\n",
              "Gender             float64\n",
              "Ever_Married       float64\n",
              "Age                  int64\n",
              "Graduated          float64\n",
              "Profession         float64\n",
              "Work_Experience    float64\n",
              "Spending_Score     float64\n",
              "Family_Size        float64\n",
              "Var_1               object\n",
              "Segmentation         int64\n",
              "dtype: object"
            ]
          },
          "metadata": {},
          "execution_count": 27
        }
      ]
    },
    {
      "cell_type": "code",
      "source": [
        "customers_1 = customers_1.drop('ID',axis=1)\n",
        "customers_1 = customers_1.drop('Var_1',axis=1)\n",
        "\n",
        "customers_1.dtypes"
      ],
      "metadata": {
        "colab": {
          "base_uri": "https://localhost:8080/"
        },
        "id": "NDwnL-F4eheq",
        "outputId": "a3772dd8-62ef-4ea9-e4f6-f9fa1ab2368c"
      },
      "execution_count": 28,
      "outputs": [
        {
          "output_type": "execute_result",
          "data": {
            "text/plain": [
              "Gender             float64\n",
              "Ever_Married       float64\n",
              "Age                  int64\n",
              "Graduated          float64\n",
              "Profession         float64\n",
              "Work_Experience    float64\n",
              "Spending_Score     float64\n",
              "Family_Size        float64\n",
              "Segmentation         int64\n",
              "dtype: object"
            ]
          },
          "metadata": {},
          "execution_count": 28
        }
      ]
    },
    {
      "cell_type": "code",
      "source": [
        "customers_1['Segmentation'].unique()"
      ],
      "metadata": {
        "colab": {
          "base_uri": "https://localhost:8080/"
        },
        "id": "pj-KWneRehhB",
        "outputId": "6dffde96-296f-44f2-d34c-f098e63d1dca"
      },
      "execution_count": 29,
      "outputs": [
        {
          "output_type": "execute_result",
          "data": {
            "text/plain": [
              "array([3, 1, 2, 0])"
            ]
          },
          "metadata": {},
          "execution_count": 29
        }
      ]
    },
    {
      "cell_type": "code",
      "source": [
        "X=customers_1[['Gender','Ever_Married','Age','Graduated','Profession','Work_Experience','Spending_Score','Family_Size']].values\n",
        "\n",
        "y1 = customers_1[['Segmentation']].values\n",
        "\n",
        "one_hot_enc = OneHotEncoder()\n",
        "\n",
        "one_hot_enc.fit(y1)"
      ],
      "metadata": {
        "colab": {
          "base_uri": "https://localhost:8080/",
          "height": 93
        },
        "id": "LZXrBY1Sehjn",
        "outputId": "d1cdc9ea-d10c-4dc6-9a8d-53f41de2e4fc"
      },
      "execution_count": 30,
      "outputs": [
        {
          "output_type": "execute_result",
          "data": {
            "text/plain": [
              "OneHotEncoder()"
            ],
            "text/html": [
              "<style>#sk-container-id-1 {color: black;background-color: white;}#sk-container-id-1 pre{padding: 0;}#sk-container-id-1 div.sk-toggleable {background-color: white;}#sk-container-id-1 label.sk-toggleable__label {cursor: pointer;display: block;width: 100%;margin-bottom: 0;padding: 0.3em;box-sizing: border-box;text-align: center;}#sk-container-id-1 label.sk-toggleable__label-arrow:before {content: \"▸\";float: left;margin-right: 0.25em;color: #696969;}#sk-container-id-1 label.sk-toggleable__label-arrow:hover:before {color: black;}#sk-container-id-1 div.sk-estimator:hover label.sk-toggleable__label-arrow:before {color: black;}#sk-container-id-1 div.sk-toggleable__content {max-height: 0;max-width: 0;overflow: hidden;text-align: left;background-color: #f0f8ff;}#sk-container-id-1 div.sk-toggleable__content pre {margin: 0.2em;color: black;border-radius: 0.25em;background-color: #f0f8ff;}#sk-container-id-1 input.sk-toggleable__control:checked~div.sk-toggleable__content {max-height: 200px;max-width: 100%;overflow: auto;}#sk-container-id-1 input.sk-toggleable__control:checked~label.sk-toggleable__label-arrow:before {content: \"▾\";}#sk-container-id-1 div.sk-estimator input.sk-toggleable__control:checked~label.sk-toggleable__label {background-color: #d4ebff;}#sk-container-id-1 div.sk-label input.sk-toggleable__control:checked~label.sk-toggleable__label {background-color: #d4ebff;}#sk-container-id-1 input.sk-hidden--visually {border: 0;clip: rect(1px 1px 1px 1px);clip: rect(1px, 1px, 1px, 1px);height: 1px;margin: -1px;overflow: hidden;padding: 0;position: absolute;width: 1px;}#sk-container-id-1 div.sk-estimator {font-family: monospace;background-color: #f0f8ff;border: 1px dotted black;border-radius: 0.25em;box-sizing: border-box;margin-bottom: 0.5em;}#sk-container-id-1 div.sk-estimator:hover {background-color: #d4ebff;}#sk-container-id-1 div.sk-parallel-item::after {content: \"\";width: 100%;border-bottom: 1px solid gray;flex-grow: 1;}#sk-container-id-1 div.sk-label:hover label.sk-toggleable__label {background-color: #d4ebff;}#sk-container-id-1 div.sk-serial::before {content: \"\";position: absolute;border-left: 1px solid gray;box-sizing: border-box;top: 0;bottom: 0;left: 50%;z-index: 0;}#sk-container-id-1 div.sk-serial {display: flex;flex-direction: column;align-items: center;background-color: white;padding-right: 0.2em;padding-left: 0.2em;position: relative;}#sk-container-id-1 div.sk-item {position: relative;z-index: 1;}#sk-container-id-1 div.sk-parallel {display: flex;align-items: stretch;justify-content: center;background-color: white;position: relative;}#sk-container-id-1 div.sk-item::before, #sk-container-id-1 div.sk-parallel-item::before {content: \"\";position: absolute;border-left: 1px solid gray;box-sizing: border-box;top: 0;bottom: 0;left: 50%;z-index: -1;}#sk-container-id-1 div.sk-parallel-item {display: flex;flex-direction: column;z-index: 1;position: relative;background-color: white;}#sk-container-id-1 div.sk-parallel-item:first-child::after {align-self: flex-end;width: 50%;}#sk-container-id-1 div.sk-parallel-item:last-child::after {align-self: flex-start;width: 50%;}#sk-container-id-1 div.sk-parallel-item:only-child::after {width: 0;}#sk-container-id-1 div.sk-dashed-wrapped {border: 1px dashed gray;margin: 0 0.4em 0.5em 0.4em;box-sizing: border-box;padding-bottom: 0.4em;background-color: white;}#sk-container-id-1 div.sk-label label {font-family: monospace;font-weight: bold;display: inline-block;line-height: 1.2em;}#sk-container-id-1 div.sk-label-container {text-align: center;}#sk-container-id-1 div.sk-container {/* jupyter's `normalize.less` sets `[hidden] { display: none; }` but bootstrap.min.css set `[hidden] { display: none !important; }` so we also need the `!important` here to be able to override the default hidden behavior on the sphinx rendered scikit-learn.org. See: https://github.com/scikit-learn/scikit-learn/issues/21755 */display: inline-block !important;position: relative;}#sk-container-id-1 div.sk-text-repr-fallback {display: none;}</style><div id=\"sk-container-id-1\" class=\"sk-top-container\"><div class=\"sk-text-repr-fallback\"><pre>OneHotEncoder()</pre><b>In a Jupyter environment, please rerun this cell to show the HTML representation or trust the notebook. <br />On GitHub, the HTML representation is unable to render, please try loading this page with nbviewer.org.</b></div><div class=\"sk-container\" hidden><div class=\"sk-item\"><div class=\"sk-estimator sk-toggleable\"><input class=\"sk-toggleable__control sk-hidden--visually\" id=\"sk-estimator-id-1\" type=\"checkbox\" checked><label for=\"sk-estimator-id-1\" class=\"sk-toggleable__label sk-toggleable__label-arrow\">OneHotEncoder</label><div class=\"sk-toggleable__content\"><pre>OneHotEncoder()</pre></div></div></div></div></div>"
            ]
          },
          "metadata": {},
          "execution_count": 30
        }
      ]
    },
    {
      "cell_type": "code",
      "source": [
        "y1.shape"
      ],
      "metadata": {
        "colab": {
          "base_uri": "https://localhost:8080/"
        },
        "id": "aU48DFW0ehmD",
        "outputId": "485dba34-4e47-4e85-d707-d36e09a34f1b"
      },
      "execution_count": 31,
      "outputs": [
        {
          "output_type": "execute_result",
          "data": {
            "text/plain": [
              "(8819, 1)"
            ]
          },
          "metadata": {},
          "execution_count": 31
        }
      ]
    },
    {
      "cell_type": "code",
      "source": [
        "y = one_hot_enc.transform(y1).toarray()\n",
        "\n",
        "y.shape"
      ],
      "metadata": {
        "colab": {
          "base_uri": "https://localhost:8080/"
        },
        "id": "QeZOxTR4ehok",
        "outputId": "d222456a-dd24-4c55-9f48-fc4ab5f29681"
      },
      "execution_count": 32,
      "outputs": [
        {
          "output_type": "execute_result",
          "data": {
            "text/plain": [
              "(8819, 4)"
            ]
          },
          "metadata": {},
          "execution_count": 32
        }
      ]
    },
    {
      "cell_type": "code",
      "source": [
        "y1[0]"
      ],
      "metadata": {
        "colab": {
          "base_uri": "https://localhost:8080/"
        },
        "id": "a8A-kMsTehrP",
        "outputId": "f905d2ed-8ae4-48fa-bea8-7f2df3209f95"
      },
      "execution_count": 33,
      "outputs": [
        {
          "output_type": "execute_result",
          "data": {
            "text/plain": [
              "array([3])"
            ]
          },
          "metadata": {},
          "execution_count": 33
        }
      ]
    },
    {
      "cell_type": "code",
      "source": [
        "y[0]"
      ],
      "metadata": {
        "colab": {
          "base_uri": "https://localhost:8080/"
        },
        "id": "xv_fX575e-z7",
        "outputId": "59585bb7-2a0e-4db7-9fc5-13e27816096a"
      },
      "execution_count": 34,
      "outputs": [
        {
          "output_type": "execute_result",
          "data": {
            "text/plain": [
              "array([0., 0., 0., 1.])"
            ]
          },
          "metadata": {},
          "execution_count": 34
        }
      ]
    },
    {
      "cell_type": "code",
      "source": [
        "X.shape"
      ],
      "metadata": {
        "colab": {
          "base_uri": "https://localhost:8080/"
        },
        "id": "JV0DhbRXe-2F",
        "outputId": "d7fa3ca2-bbf9-4903-cd6d-4d57328968ba"
      },
      "execution_count": 35,
      "outputs": [
        {
          "output_type": "execute_result",
          "data": {
            "text/plain": [
              "(8819, 8)"
            ]
          },
          "metadata": {},
          "execution_count": 35
        }
      ]
    },
    {
      "cell_type": "code",
      "source": [
        "X_train,X_test,y_train,y_test=train_test_split(X,y,\n",
        "                                               test_size=0.33,\n",
        "                                               random_state=50)\n",
        "\n",
        "X_train[0]"
      ],
      "metadata": {
        "colab": {
          "base_uri": "https://localhost:8080/"
        },
        "id": "Cdn0hVf1e-4s",
        "outputId": "343c048e-9888-430b-a600-c6bc8c7171e4"
      },
      "execution_count": 36,
      "outputs": [
        {
          "output_type": "execute_result",
          "data": {
            "text/plain": [
              "array([ 1.,  1., 85.,  0.,  2.,  0.,  0.,  1.])"
            ]
          },
          "metadata": {},
          "execution_count": 36
        }
      ]
    },
    {
      "cell_type": "code",
      "source": [
        "X_train.shape"
      ],
      "metadata": {
        "colab": {
          "base_uri": "https://localhost:8080/"
        },
        "id": "KQAVqGIFe-7Y",
        "outputId": "33c6aee3-625d-4e23-c133-f28b44825c17"
      },
      "execution_count": 37,
      "outputs": [
        {
          "output_type": "execute_result",
          "data": {
            "text/plain": [
              "(5908, 8)"
            ]
          },
          "metadata": {},
          "execution_count": 37
        }
      ]
    },
    {
      "cell_type": "code",
      "source": [
        "scaler_age = MinMaxScaler()\n",
        "\n",
        "scaler_age.fit(X_train[:,2].reshape(-1,1))"
      ],
      "metadata": {
        "colab": {
          "base_uri": "https://localhost:8080/",
          "height": 93
        },
        "id": "wNX8mZp3ehtx",
        "outputId": "ec59325c-8ae1-481f-b8fe-1203b2a41b08"
      },
      "execution_count": 38,
      "outputs": [
        {
          "output_type": "execute_result",
          "data": {
            "text/plain": [
              "MinMaxScaler()"
            ],
            "text/html": [
              "<style>#sk-container-id-2 {color: black;background-color: white;}#sk-container-id-2 pre{padding: 0;}#sk-container-id-2 div.sk-toggleable {background-color: white;}#sk-container-id-2 label.sk-toggleable__label {cursor: pointer;display: block;width: 100%;margin-bottom: 0;padding: 0.3em;box-sizing: border-box;text-align: center;}#sk-container-id-2 label.sk-toggleable__label-arrow:before {content: \"▸\";float: left;margin-right: 0.25em;color: #696969;}#sk-container-id-2 label.sk-toggleable__label-arrow:hover:before {color: black;}#sk-container-id-2 div.sk-estimator:hover label.sk-toggleable__label-arrow:before {color: black;}#sk-container-id-2 div.sk-toggleable__content {max-height: 0;max-width: 0;overflow: hidden;text-align: left;background-color: #f0f8ff;}#sk-container-id-2 div.sk-toggleable__content pre {margin: 0.2em;color: black;border-radius: 0.25em;background-color: #f0f8ff;}#sk-container-id-2 input.sk-toggleable__control:checked~div.sk-toggleable__content {max-height: 200px;max-width: 100%;overflow: auto;}#sk-container-id-2 input.sk-toggleable__control:checked~label.sk-toggleable__label-arrow:before {content: \"▾\";}#sk-container-id-2 div.sk-estimator input.sk-toggleable__control:checked~label.sk-toggleable__label {background-color: #d4ebff;}#sk-container-id-2 div.sk-label input.sk-toggleable__control:checked~label.sk-toggleable__label {background-color: #d4ebff;}#sk-container-id-2 input.sk-hidden--visually {border: 0;clip: rect(1px 1px 1px 1px);clip: rect(1px, 1px, 1px, 1px);height: 1px;margin: -1px;overflow: hidden;padding: 0;position: absolute;width: 1px;}#sk-container-id-2 div.sk-estimator {font-family: monospace;background-color: #f0f8ff;border: 1px dotted black;border-radius: 0.25em;box-sizing: border-box;margin-bottom: 0.5em;}#sk-container-id-2 div.sk-estimator:hover {background-color: #d4ebff;}#sk-container-id-2 div.sk-parallel-item::after {content: \"\";width: 100%;border-bottom: 1px solid gray;flex-grow: 1;}#sk-container-id-2 div.sk-label:hover label.sk-toggleable__label {background-color: #d4ebff;}#sk-container-id-2 div.sk-serial::before {content: \"\";position: absolute;border-left: 1px solid gray;box-sizing: border-box;top: 0;bottom: 0;left: 50%;z-index: 0;}#sk-container-id-2 div.sk-serial {display: flex;flex-direction: column;align-items: center;background-color: white;padding-right: 0.2em;padding-left: 0.2em;position: relative;}#sk-container-id-2 div.sk-item {position: relative;z-index: 1;}#sk-container-id-2 div.sk-parallel {display: flex;align-items: stretch;justify-content: center;background-color: white;position: relative;}#sk-container-id-2 div.sk-item::before, #sk-container-id-2 div.sk-parallel-item::before {content: \"\";position: absolute;border-left: 1px solid gray;box-sizing: border-box;top: 0;bottom: 0;left: 50%;z-index: -1;}#sk-container-id-2 div.sk-parallel-item {display: flex;flex-direction: column;z-index: 1;position: relative;background-color: white;}#sk-container-id-2 div.sk-parallel-item:first-child::after {align-self: flex-end;width: 50%;}#sk-container-id-2 div.sk-parallel-item:last-child::after {align-self: flex-start;width: 50%;}#sk-container-id-2 div.sk-parallel-item:only-child::after {width: 0;}#sk-container-id-2 div.sk-dashed-wrapped {border: 1px dashed gray;margin: 0 0.4em 0.5em 0.4em;box-sizing: border-box;padding-bottom: 0.4em;background-color: white;}#sk-container-id-2 div.sk-label label {font-family: monospace;font-weight: bold;display: inline-block;line-height: 1.2em;}#sk-container-id-2 div.sk-label-container {text-align: center;}#sk-container-id-2 div.sk-container {/* jupyter's `normalize.less` sets `[hidden] { display: none; }` but bootstrap.min.css set `[hidden] { display: none !important; }` so we also need the `!important` here to be able to override the default hidden behavior on the sphinx rendered scikit-learn.org. See: https://github.com/scikit-learn/scikit-learn/issues/21755 */display: inline-block !important;position: relative;}#sk-container-id-2 div.sk-text-repr-fallback {display: none;}</style><div id=\"sk-container-id-2\" class=\"sk-top-container\"><div class=\"sk-text-repr-fallback\"><pre>MinMaxScaler()</pre><b>In a Jupyter environment, please rerun this cell to show the HTML representation or trust the notebook. <br />On GitHub, the HTML representation is unable to render, please try loading this page with nbviewer.org.</b></div><div class=\"sk-container\" hidden><div class=\"sk-item\"><div class=\"sk-estimator sk-toggleable\"><input class=\"sk-toggleable__control sk-hidden--visually\" id=\"sk-estimator-id-2\" type=\"checkbox\" checked><label for=\"sk-estimator-id-2\" class=\"sk-toggleable__label sk-toggleable__label-arrow\">MinMaxScaler</label><div class=\"sk-toggleable__content\"><pre>MinMaxScaler()</pre></div></div></div></div></div>"
            ]
          },
          "metadata": {},
          "execution_count": 38
        }
      ]
    },
    {
      "cell_type": "code",
      "source": [
        "X_train_scaled = np.copy(X_train)\n",
        "X_test_scaled = np.copy(X_test)"
      ],
      "metadata": {
        "id": "n2hJv0ZFehwk"
      },
      "execution_count": 39,
      "outputs": []
    },
    {
      "cell_type": "code",
      "source": [
        "# To scale the Age column\n",
        "X_train_scaled[:,2] = scaler_age.transform(X_train[:,2].reshape(-1,1)).reshape(-1)\n",
        "X_test_scaled[:,2] = scaler_age.transform(X_test[:,2].reshape(-1,1)).reshape(-1)"
      ],
      "metadata": {
        "id": "DqJoD1HUfU-5"
      },
      "execution_count": 40,
      "outputs": []
    },
    {
      "cell_type": "code",
      "source": [
        "# Creating the model\n",
        "ai_brain = Sequential([\n",
        "  Dense(units = 8, input_shape=[8]),\n",
        "  Dense(units =16, activation='relu'),\n",
        "\n",
        "  Dense(units =4, activation ='softmax')\n",
        "])"
      ],
      "metadata": {
        "id": "5jNscZEJfVBG"
      },
      "execution_count": 41,
      "outputs": []
    },
    {
      "cell_type": "code",
      "source": [
        "ai_brain.compile(optimizer='adam',\n",
        "                 loss='categorical_crossentropy',\n",
        "                 metrics=['accuracy'])"
      ],
      "metadata": {
        "id": "kHC75hlJfVDs"
      },
      "execution_count": 42,
      "outputs": []
    },
    {
      "cell_type": "code",
      "source": [
        "ai_brain.fit(x=X_train_scaled,y=y_train,\n",
        "             epochs=500,batch_size=256,\n",
        "             validation_data=(X_test_scaled,y_test),\n",
        "             )"
      ],
      "metadata": {
        "colab": {
          "base_uri": "https://localhost:8080/"
        },
        "id": "Qa5zehUPfVGJ",
        "outputId": "ec8de27b-2869-4bc3-8dba-33c7f785bf64"
      },
      "execution_count": 43,
      "outputs": [
        {
          "output_type": "stream",
          "name": "stdout",
          "text": [
            "Epoch 1/500\n",
            "24/24 [==============================] - 2s 17ms/step - loss: 3.2943 - accuracy: 0.2395 - val_loss: 2.2704 - val_accuracy: 0.2381\n",
            "Epoch 2/500\n",
            "24/24 [==============================] - 0s 5ms/step - loss: 1.7835 - accuracy: 0.2422 - val_loss: 1.5074 - val_accuracy: 0.2412\n",
            "Epoch 3/500\n",
            "24/24 [==============================] - 0s 5ms/step - loss: 1.4524 - accuracy: 0.2588 - val_loss: 1.4256 - val_accuracy: 0.2704\n",
            "Epoch 4/500\n",
            "24/24 [==============================] - 0s 7ms/step - loss: 1.3930 - accuracy: 0.2871 - val_loss: 1.3897 - val_accuracy: 0.2954\n",
            "Epoch 5/500\n",
            "24/24 [==============================] - 0s 6ms/step - loss: 1.3658 - accuracy: 0.3209 - val_loss: 1.3680 - val_accuracy: 0.3291\n",
            "Epoch 6/500\n",
            "24/24 [==============================] - 0s 6ms/step - loss: 1.3487 - accuracy: 0.3456 - val_loss: 1.3537 - val_accuracy: 0.3298\n",
            "Epoch 7/500\n",
            "24/24 [==============================] - 0s 5ms/step - loss: 1.3356 - accuracy: 0.3580 - val_loss: 1.3410 - val_accuracy: 0.3490\n",
            "Epoch 8/500\n",
            "24/24 [==============================] - 0s 5ms/step - loss: 1.3240 - accuracy: 0.3734 - val_loss: 1.3301 - val_accuracy: 0.3775\n",
            "Epoch 9/500\n",
            "24/24 [==============================] - 0s 7ms/step - loss: 1.3140 - accuracy: 0.3961 - val_loss: 1.3224 - val_accuracy: 0.3844\n",
            "Epoch 10/500\n",
            "24/24 [==============================] - 0s 8ms/step - loss: 1.3063 - accuracy: 0.4008 - val_loss: 1.3155 - val_accuracy: 0.3882\n",
            "Epoch 11/500\n",
            "24/24 [==============================] - 0s 9ms/step - loss: 1.3005 - accuracy: 0.4044 - val_loss: 1.3099 - val_accuracy: 0.3923\n",
            "Epoch 12/500\n",
            "24/24 [==============================] - 0s 11ms/step - loss: 1.2952 - accuracy: 0.4113 - val_loss: 1.3047 - val_accuracy: 0.3995\n",
            "Epoch 13/500\n",
            "24/24 [==============================] - 0s 10ms/step - loss: 1.2895 - accuracy: 0.4179 - val_loss: 1.3009 - val_accuracy: 0.4026\n",
            "Epoch 14/500\n",
            "24/24 [==============================] - 0s 10ms/step - loss: 1.2855 - accuracy: 0.4171 - val_loss: 1.2965 - val_accuracy: 0.4078\n",
            "Epoch 15/500\n",
            "24/24 [==============================] - 0s 9ms/step - loss: 1.2811 - accuracy: 0.4243 - val_loss: 1.2922 - val_accuracy: 0.4091\n",
            "Epoch 16/500\n",
            "24/24 [==============================] - 0s 7ms/step - loss: 1.2768 - accuracy: 0.4257 - val_loss: 1.2876 - val_accuracy: 0.4102\n",
            "Epoch 17/500\n",
            "24/24 [==============================] - 0s 8ms/step - loss: 1.2725 - accuracy: 0.4267 - val_loss: 1.2835 - val_accuracy: 0.4143\n",
            "Epoch 18/500\n",
            "24/24 [==============================] - 0s 7ms/step - loss: 1.2688 - accuracy: 0.4286 - val_loss: 1.2801 - val_accuracy: 0.4136\n",
            "Epoch 19/500\n",
            "24/24 [==============================] - 0s 9ms/step - loss: 1.2651 - accuracy: 0.4296 - val_loss: 1.2759 - val_accuracy: 0.4188\n",
            "Epoch 20/500\n",
            "24/24 [==============================] - 0s 9ms/step - loss: 1.2610 - accuracy: 0.4309 - val_loss: 1.2738 - val_accuracy: 0.4167\n",
            "Epoch 21/500\n",
            "24/24 [==============================] - 0s 10ms/step - loss: 1.2583 - accuracy: 0.4277 - val_loss: 1.2713 - val_accuracy: 0.4174\n",
            "Epoch 22/500\n",
            "24/24 [==============================] - 0s 9ms/step - loss: 1.2558 - accuracy: 0.4298 - val_loss: 1.2696 - val_accuracy: 0.4191\n",
            "Epoch 23/500\n",
            "24/24 [==============================] - 0s 8ms/step - loss: 1.2547 - accuracy: 0.4294 - val_loss: 1.2672 - val_accuracy: 0.4232\n",
            "Epoch 24/500\n",
            "24/24 [==============================] - 0s 6ms/step - loss: 1.2519 - accuracy: 0.4336 - val_loss: 1.2664 - val_accuracy: 0.4208\n",
            "Epoch 25/500\n",
            "24/24 [==============================] - 0s 6ms/step - loss: 1.2508 - accuracy: 0.4367 - val_loss: 1.2645 - val_accuracy: 0.4218\n",
            "Epoch 26/500\n",
            "24/24 [==============================] - 0s 6ms/step - loss: 1.2490 - accuracy: 0.4369 - val_loss: 1.2634 - val_accuracy: 0.4253\n",
            "Epoch 27/500\n",
            "24/24 [==============================] - 0s 5ms/step - loss: 1.2480 - accuracy: 0.4408 - val_loss: 1.2626 - val_accuracy: 0.4236\n",
            "Epoch 28/500\n",
            "24/24 [==============================] - 0s 6ms/step - loss: 1.2467 - accuracy: 0.4392 - val_loss: 1.2619 - val_accuracy: 0.4270\n",
            "Epoch 29/500\n",
            "24/24 [==============================] - 0s 7ms/step - loss: 1.2462 - accuracy: 0.4374 - val_loss: 1.2623 - val_accuracy: 0.4229\n",
            "Epoch 30/500\n",
            "24/24 [==============================] - 0s 7ms/step - loss: 1.2456 - accuracy: 0.4391 - val_loss: 1.2616 - val_accuracy: 0.4267\n",
            "Epoch 31/500\n",
            "24/24 [==============================] - 0s 5ms/step - loss: 1.2441 - accuracy: 0.4387 - val_loss: 1.2613 - val_accuracy: 0.4236\n",
            "Epoch 32/500\n",
            "24/24 [==============================] - 0s 5ms/step - loss: 1.2432 - accuracy: 0.4397 - val_loss: 1.2591 - val_accuracy: 0.4215\n",
            "Epoch 33/500\n",
            "24/24 [==============================] - 0s 5ms/step - loss: 1.2421 - accuracy: 0.4406 - val_loss: 1.2576 - val_accuracy: 0.4249\n",
            "Epoch 34/500\n",
            "24/24 [==============================] - 0s 7ms/step - loss: 1.2420 - accuracy: 0.4396 - val_loss: 1.2571 - val_accuracy: 0.4263\n",
            "Epoch 35/500\n",
            "24/24 [==============================] - 0s 6ms/step - loss: 1.2414 - accuracy: 0.4440 - val_loss: 1.2573 - val_accuracy: 0.4222\n",
            "Epoch 36/500\n",
            "24/24 [==============================] - 0s 7ms/step - loss: 1.2411 - accuracy: 0.4414 - val_loss: 1.2561 - val_accuracy: 0.4273\n",
            "Epoch 37/500\n",
            "24/24 [==============================] - 0s 6ms/step - loss: 1.2394 - accuracy: 0.4408 - val_loss: 1.2560 - val_accuracy: 0.4253\n",
            "Epoch 38/500\n",
            "24/24 [==============================] - 0s 8ms/step - loss: 1.2392 - accuracy: 0.4421 - val_loss: 1.2562 - val_accuracy: 0.4249\n",
            "Epoch 39/500\n",
            "24/24 [==============================] - 0s 6ms/step - loss: 1.2380 - accuracy: 0.4426 - val_loss: 1.2551 - val_accuracy: 0.4232\n",
            "Epoch 40/500\n",
            "24/24 [==============================] - 0s 5ms/step - loss: 1.2383 - accuracy: 0.4397 - val_loss: 1.2561 - val_accuracy: 0.4263\n",
            "Epoch 41/500\n",
            "24/24 [==============================] - 0s 6ms/step - loss: 1.2377 - accuracy: 0.4419 - val_loss: 1.2562 - val_accuracy: 0.4280\n",
            "Epoch 42/500\n",
            "24/24 [==============================] - 0s 7ms/step - loss: 1.2392 - accuracy: 0.4330 - val_loss: 1.2563 - val_accuracy: 0.4311\n",
            "Epoch 43/500\n",
            "24/24 [==============================] - 0s 5ms/step - loss: 1.2364 - accuracy: 0.4436 - val_loss: 1.2540 - val_accuracy: 0.4277\n",
            "Epoch 44/500\n",
            "24/24 [==============================] - 0s 5ms/step - loss: 1.2376 - accuracy: 0.4413 - val_loss: 1.2544 - val_accuracy: 0.4253\n",
            "Epoch 45/500\n",
            "24/24 [==============================] - 0s 5ms/step - loss: 1.2362 - accuracy: 0.4426 - val_loss: 1.2534 - val_accuracy: 0.4294\n",
            "Epoch 46/500\n",
            "24/24 [==============================] - 0s 5ms/step - loss: 1.2364 - accuracy: 0.4401 - val_loss: 1.2531 - val_accuracy: 0.4277\n",
            "Epoch 47/500\n",
            "24/24 [==============================] - 0s 5ms/step - loss: 1.2368 - accuracy: 0.4343 - val_loss: 1.2537 - val_accuracy: 0.4332\n",
            "Epoch 48/500\n",
            "24/24 [==============================] - 0s 5ms/step - loss: 1.2351 - accuracy: 0.4396 - val_loss: 1.2534 - val_accuracy: 0.4315\n",
            "Epoch 49/500\n",
            "24/24 [==============================] - 0s 6ms/step - loss: 1.2345 - accuracy: 0.4419 - val_loss: 1.2527 - val_accuracy: 0.4304\n",
            "Epoch 50/500\n",
            "24/24 [==============================] - 0s 5ms/step - loss: 1.2336 - accuracy: 0.4443 - val_loss: 1.2522 - val_accuracy: 0.4270\n",
            "Epoch 51/500\n",
            "24/24 [==============================] - 0s 5ms/step - loss: 1.2336 - accuracy: 0.4438 - val_loss: 1.2530 - val_accuracy: 0.4318\n",
            "Epoch 52/500\n",
            "24/24 [==============================] - 0s 5ms/step - loss: 1.2341 - accuracy: 0.4430 - val_loss: 1.2516 - val_accuracy: 0.4325\n",
            "Epoch 53/500\n",
            "24/24 [==============================] - 0s 7ms/step - loss: 1.2334 - accuracy: 0.4472 - val_loss: 1.2523 - val_accuracy: 0.4253\n",
            "Epoch 54/500\n",
            "24/24 [==============================] - 0s 5ms/step - loss: 1.2331 - accuracy: 0.4426 - val_loss: 1.2512 - val_accuracy: 0.4304\n",
            "Epoch 55/500\n",
            "24/24 [==============================] - 0s 5ms/step - loss: 1.2321 - accuracy: 0.4440 - val_loss: 1.2510 - val_accuracy: 0.4304\n",
            "Epoch 56/500\n",
            "24/24 [==============================] - 0s 5ms/step - loss: 1.2318 - accuracy: 0.4431 - val_loss: 1.2509 - val_accuracy: 0.4328\n",
            "Epoch 57/500\n",
            "24/24 [==============================] - 0s 5ms/step - loss: 1.2329 - accuracy: 0.4465 - val_loss: 1.2505 - val_accuracy: 0.4308\n",
            "Epoch 58/500\n",
            "24/24 [==============================] - 0s 4ms/step - loss: 1.2324 - accuracy: 0.4421 - val_loss: 1.2497 - val_accuracy: 0.4322\n",
            "Epoch 59/500\n",
            "24/24 [==============================] - 0s 5ms/step - loss: 1.2322 - accuracy: 0.4409 - val_loss: 1.2501 - val_accuracy: 0.4328\n",
            "Epoch 60/500\n",
            "24/24 [==============================] - 0s 5ms/step - loss: 1.2305 - accuracy: 0.4462 - val_loss: 1.2508 - val_accuracy: 0.4318\n",
            "Epoch 61/500\n",
            "24/24 [==============================] - 0s 5ms/step - loss: 1.2312 - accuracy: 0.4453 - val_loss: 1.2490 - val_accuracy: 0.4349\n",
            "Epoch 62/500\n",
            "24/24 [==============================] - 0s 7ms/step - loss: 1.2308 - accuracy: 0.4450 - val_loss: 1.2495 - val_accuracy: 0.4342\n",
            "Epoch 63/500\n",
            "24/24 [==============================] - 0s 9ms/step - loss: 1.2297 - accuracy: 0.4469 - val_loss: 1.2495 - val_accuracy: 0.4308\n",
            "Epoch 64/500\n",
            "24/24 [==============================] - 0s 7ms/step - loss: 1.2312 - accuracy: 0.4386 - val_loss: 1.2514 - val_accuracy: 0.4301\n",
            "Epoch 65/500\n",
            "24/24 [==============================] - 0s 8ms/step - loss: 1.2293 - accuracy: 0.4467 - val_loss: 1.2499 - val_accuracy: 0.4363\n",
            "Epoch 66/500\n",
            "24/24 [==============================] - 0s 8ms/step - loss: 1.2290 - accuracy: 0.4441 - val_loss: 1.2482 - val_accuracy: 0.4339\n",
            "Epoch 67/500\n",
            "24/24 [==============================] - 0s 6ms/step - loss: 1.2289 - accuracy: 0.4470 - val_loss: 1.2492 - val_accuracy: 0.4332\n",
            "Epoch 68/500\n",
            "24/24 [==============================] - 0s 6ms/step - loss: 1.2293 - accuracy: 0.4453 - val_loss: 1.2483 - val_accuracy: 0.4332\n",
            "Epoch 69/500\n",
            "24/24 [==============================] - 0s 5ms/step - loss: 1.2288 - accuracy: 0.4447 - val_loss: 1.2490 - val_accuracy: 0.4387\n",
            "Epoch 70/500\n",
            "24/24 [==============================] - 0s 5ms/step - loss: 1.2286 - accuracy: 0.4441 - val_loss: 1.2484 - val_accuracy: 0.4318\n",
            "Epoch 71/500\n",
            "24/24 [==============================] - 0s 5ms/step - loss: 1.2284 - accuracy: 0.4485 - val_loss: 1.2481 - val_accuracy: 0.4373\n",
            "Epoch 72/500\n",
            "24/24 [==============================] - 0s 5ms/step - loss: 1.2273 - accuracy: 0.4460 - val_loss: 1.2479 - val_accuracy: 0.4377\n",
            "Epoch 73/500\n",
            "24/24 [==============================] - 0s 5ms/step - loss: 1.2297 - accuracy: 0.4421 - val_loss: 1.2469 - val_accuracy: 0.4356\n",
            "Epoch 74/500\n",
            "24/24 [==============================] - 0s 7ms/step - loss: 1.2325 - accuracy: 0.4445 - val_loss: 1.2489 - val_accuracy: 0.4339\n",
            "Epoch 75/500\n",
            "24/24 [==============================] - 0s 7ms/step - loss: 1.2272 - accuracy: 0.4496 - val_loss: 1.2469 - val_accuracy: 0.4404\n",
            "Epoch 76/500\n",
            "24/24 [==============================] - 0s 9ms/step - loss: 1.2261 - accuracy: 0.4501 - val_loss: 1.2464 - val_accuracy: 0.4387\n",
            "Epoch 77/500\n",
            "24/24 [==============================] - 1s 23ms/step - loss: 1.2267 - accuracy: 0.4497 - val_loss: 1.2474 - val_accuracy: 0.4366\n",
            "Epoch 78/500\n",
            "24/24 [==============================] - 0s 6ms/step - loss: 1.2262 - accuracy: 0.4469 - val_loss: 1.2471 - val_accuracy: 0.4359\n",
            "Epoch 79/500\n",
            "24/24 [==============================] - 0s 8ms/step - loss: 1.2266 - accuracy: 0.4433 - val_loss: 1.2473 - val_accuracy: 0.4394\n",
            "Epoch 80/500\n",
            "24/24 [==============================] - 0s 7ms/step - loss: 1.2266 - accuracy: 0.4470 - val_loss: 1.2471 - val_accuracy: 0.4352\n",
            "Epoch 81/500\n",
            "24/24 [==============================] - 0s 6ms/step - loss: 1.2266 - accuracy: 0.4470 - val_loss: 1.2466 - val_accuracy: 0.4380\n",
            "Epoch 82/500\n",
            "24/24 [==============================] - 0s 8ms/step - loss: 1.2262 - accuracy: 0.4480 - val_loss: 1.2456 - val_accuracy: 0.4387\n",
            "Epoch 83/500\n",
            "24/24 [==============================] - 0s 8ms/step - loss: 1.2254 - accuracy: 0.4487 - val_loss: 1.2459 - val_accuracy: 0.4356\n",
            "Epoch 84/500\n",
            "24/24 [==============================] - 0s 10ms/step - loss: 1.2248 - accuracy: 0.4491 - val_loss: 1.2462 - val_accuracy: 0.4342\n",
            "Epoch 85/500\n",
            "24/24 [==============================] - 0s 11ms/step - loss: 1.2244 - accuracy: 0.4506 - val_loss: 1.2473 - val_accuracy: 0.4366\n",
            "Epoch 86/500\n",
            "24/24 [==============================] - 0s 11ms/step - loss: 1.2255 - accuracy: 0.4447 - val_loss: 1.2450 - val_accuracy: 0.4394\n",
            "Epoch 87/500\n",
            "24/24 [==============================] - 0s 8ms/step - loss: 1.2250 - accuracy: 0.4438 - val_loss: 1.2459 - val_accuracy: 0.4352\n",
            "Epoch 88/500\n",
            "24/24 [==============================] - 0s 9ms/step - loss: 1.2241 - accuracy: 0.4482 - val_loss: 1.2463 - val_accuracy: 0.4373\n",
            "Epoch 89/500\n",
            "24/24 [==============================] - 0s 9ms/step - loss: 1.2248 - accuracy: 0.4479 - val_loss: 1.2449 - val_accuracy: 0.4390\n",
            "Epoch 90/500\n",
            "24/24 [==============================] - 0s 7ms/step - loss: 1.2247 - accuracy: 0.4470 - val_loss: 1.2466 - val_accuracy: 0.4363\n",
            "Epoch 91/500\n",
            "24/24 [==============================] - 0s 8ms/step - loss: 1.2240 - accuracy: 0.4469 - val_loss: 1.2448 - val_accuracy: 0.4401\n",
            "Epoch 92/500\n",
            "24/24 [==============================] - 0s 7ms/step - loss: 1.2238 - accuracy: 0.4484 - val_loss: 1.2458 - val_accuracy: 0.4356\n",
            "Epoch 93/500\n",
            "24/24 [==============================] - 0s 10ms/step - loss: 1.2242 - accuracy: 0.4507 - val_loss: 1.2441 - val_accuracy: 0.4394\n",
            "Epoch 94/500\n",
            "24/24 [==============================] - 0s 10ms/step - loss: 1.2233 - accuracy: 0.4463 - val_loss: 1.2461 - val_accuracy: 0.4352\n",
            "Epoch 95/500\n",
            "24/24 [==============================] - 0s 11ms/step - loss: 1.2226 - accuracy: 0.4511 - val_loss: 1.2449 - val_accuracy: 0.4349\n",
            "Epoch 96/500\n",
            "24/24 [==============================] - 0s 10ms/step - loss: 1.2239 - accuracy: 0.4489 - val_loss: 1.2433 - val_accuracy: 0.4418\n",
            "Epoch 97/500\n",
            "24/24 [==============================] - 0s 8ms/step - loss: 1.2222 - accuracy: 0.4509 - val_loss: 1.2443 - val_accuracy: 0.4390\n",
            "Epoch 98/500\n",
            "24/24 [==============================] - 0s 5ms/step - loss: 1.2226 - accuracy: 0.4497 - val_loss: 1.2445 - val_accuracy: 0.4377\n",
            "Epoch 99/500\n",
            "24/24 [==============================] - 0s 5ms/step - loss: 1.2214 - accuracy: 0.4469 - val_loss: 1.2445 - val_accuracy: 0.4383\n",
            "Epoch 100/500\n",
            "24/24 [==============================] - 0s 5ms/step - loss: 1.2208 - accuracy: 0.4531 - val_loss: 1.2447 - val_accuracy: 0.4366\n",
            "Epoch 101/500\n",
            "24/24 [==============================] - 0s 5ms/step - loss: 1.2215 - accuracy: 0.4504 - val_loss: 1.2460 - val_accuracy: 0.4377\n",
            "Epoch 102/500\n",
            "24/24 [==============================] - 0s 7ms/step - loss: 1.2210 - accuracy: 0.4491 - val_loss: 1.2439 - val_accuracy: 0.4397\n",
            "Epoch 103/500\n",
            "24/24 [==============================] - 0s 5ms/step - loss: 1.2228 - accuracy: 0.4499 - val_loss: 1.2425 - val_accuracy: 0.4404\n",
            "Epoch 104/500\n",
            "24/24 [==============================] - 0s 7ms/step - loss: 1.2208 - accuracy: 0.4504 - val_loss: 1.2425 - val_accuracy: 0.4390\n",
            "Epoch 105/500\n",
            "24/24 [==============================] - 0s 7ms/step - loss: 1.2199 - accuracy: 0.4506 - val_loss: 1.2432 - val_accuracy: 0.4377\n",
            "Epoch 106/500\n",
            "24/24 [==============================] - 0s 8ms/step - loss: 1.2203 - accuracy: 0.4497 - val_loss: 1.2420 - val_accuracy: 0.4373\n",
            "Epoch 107/500\n",
            "24/24 [==============================] - 0s 8ms/step - loss: 1.2205 - accuracy: 0.4511 - val_loss: 1.2426 - val_accuracy: 0.4370\n",
            "Epoch 108/500\n",
            "24/24 [==============================] - 0s 7ms/step - loss: 1.2197 - accuracy: 0.4523 - val_loss: 1.2420 - val_accuracy: 0.4401\n",
            "Epoch 109/500\n",
            "24/24 [==============================] - 0s 8ms/step - loss: 1.2191 - accuracy: 0.4492 - val_loss: 1.2436 - val_accuracy: 0.4366\n",
            "Epoch 110/500\n",
            "24/24 [==============================] - 0s 8ms/step - loss: 1.2191 - accuracy: 0.4492 - val_loss: 1.2427 - val_accuracy: 0.4377\n",
            "Epoch 111/500\n",
            "24/24 [==============================] - 0s 6ms/step - loss: 1.2195 - accuracy: 0.4496 - val_loss: 1.2428 - val_accuracy: 0.4380\n",
            "Epoch 112/500\n",
            "24/24 [==============================] - 0s 8ms/step - loss: 1.2185 - accuracy: 0.4497 - val_loss: 1.2429 - val_accuracy: 0.4407\n",
            "Epoch 113/500\n",
            "24/24 [==============================] - 0s 6ms/step - loss: 1.2188 - accuracy: 0.4518 - val_loss: 1.2419 - val_accuracy: 0.4387\n",
            "Epoch 114/500\n",
            "24/24 [==============================] - 0s 8ms/step - loss: 1.2183 - accuracy: 0.4514 - val_loss: 1.2418 - val_accuracy: 0.4380\n",
            "Epoch 115/500\n",
            "24/24 [==============================] - 0s 8ms/step - loss: 1.2184 - accuracy: 0.4491 - val_loss: 1.2414 - val_accuracy: 0.4370\n",
            "Epoch 116/500\n",
            "24/24 [==============================] - 0s 8ms/step - loss: 1.2184 - accuracy: 0.4507 - val_loss: 1.2414 - val_accuracy: 0.4383\n",
            "Epoch 117/500\n",
            "24/24 [==============================] - 0s 7ms/step - loss: 1.2192 - accuracy: 0.4535 - val_loss: 1.2420 - val_accuracy: 0.4401\n",
            "Epoch 118/500\n",
            "24/24 [==============================] - 0s 7ms/step - loss: 1.2182 - accuracy: 0.4487 - val_loss: 1.2414 - val_accuracy: 0.4390\n",
            "Epoch 119/500\n",
            "24/24 [==============================] - 0s 8ms/step - loss: 1.2172 - accuracy: 0.4494 - val_loss: 1.2416 - val_accuracy: 0.4390\n",
            "Epoch 120/500\n",
            "24/24 [==============================] - 0s 8ms/step - loss: 1.2198 - accuracy: 0.4491 - val_loss: 1.2418 - val_accuracy: 0.4356\n",
            "Epoch 121/500\n",
            "24/24 [==============================] - 0s 7ms/step - loss: 1.2172 - accuracy: 0.4509 - val_loss: 1.2404 - val_accuracy: 0.4401\n",
            "Epoch 122/500\n",
            "24/24 [==============================] - 0s 5ms/step - loss: 1.2165 - accuracy: 0.4550 - val_loss: 1.2412 - val_accuracy: 0.4335\n",
            "Epoch 123/500\n",
            "24/24 [==============================] - 0s 5ms/step - loss: 1.2159 - accuracy: 0.4538 - val_loss: 1.2420 - val_accuracy: 0.4421\n",
            "Epoch 124/500\n",
            "24/24 [==============================] - 0s 7ms/step - loss: 1.2166 - accuracy: 0.4560 - val_loss: 1.2408 - val_accuracy: 0.4356\n",
            "Epoch 125/500\n",
            "24/24 [==============================] - 0s 5ms/step - loss: 1.2161 - accuracy: 0.4543 - val_loss: 1.2406 - val_accuracy: 0.4359\n",
            "Epoch 126/500\n",
            "24/24 [==============================] - 0s 5ms/step - loss: 1.2157 - accuracy: 0.4548 - val_loss: 1.2404 - val_accuracy: 0.4335\n",
            "Epoch 127/500\n",
            "24/24 [==============================] - 0s 5ms/step - loss: 1.2155 - accuracy: 0.4541 - val_loss: 1.2399 - val_accuracy: 0.4370\n",
            "Epoch 128/500\n",
            "24/24 [==============================] - 0s 6ms/step - loss: 1.2166 - accuracy: 0.4529 - val_loss: 1.2415 - val_accuracy: 0.4349\n",
            "Epoch 129/500\n",
            "24/24 [==============================] - 0s 7ms/step - loss: 1.2174 - accuracy: 0.4507 - val_loss: 1.2421 - val_accuracy: 0.4328\n",
            "Epoch 130/500\n",
            "24/24 [==============================] - 0s 6ms/step - loss: 1.2164 - accuracy: 0.4523 - val_loss: 1.2399 - val_accuracy: 0.4383\n",
            "Epoch 131/500\n",
            "24/24 [==============================] - 0s 8ms/step - loss: 1.2148 - accuracy: 0.4573 - val_loss: 1.2406 - val_accuracy: 0.4339\n",
            "Epoch 132/500\n",
            "24/24 [==============================] - 0s 8ms/step - loss: 1.2143 - accuracy: 0.4528 - val_loss: 1.2393 - val_accuracy: 0.4356\n",
            "Epoch 133/500\n",
            "24/24 [==============================] - 0s 6ms/step - loss: 1.2135 - accuracy: 0.4558 - val_loss: 1.2396 - val_accuracy: 0.4352\n",
            "Epoch 134/500\n",
            "24/24 [==============================] - 0s 6ms/step - loss: 1.2149 - accuracy: 0.4551 - val_loss: 1.2396 - val_accuracy: 0.4401\n",
            "Epoch 135/500\n",
            "24/24 [==============================] - 0s 6ms/step - loss: 1.2138 - accuracy: 0.4575 - val_loss: 1.2386 - val_accuracy: 0.4390\n",
            "Epoch 136/500\n",
            "24/24 [==============================] - 0s 6ms/step - loss: 1.2137 - accuracy: 0.4546 - val_loss: 1.2397 - val_accuracy: 0.4394\n",
            "Epoch 137/500\n",
            "24/24 [==============================] - 0s 6ms/step - loss: 1.2127 - accuracy: 0.4563 - val_loss: 1.2372 - val_accuracy: 0.4380\n",
            "Epoch 138/500\n",
            "24/24 [==============================] - 0s 6ms/step - loss: 1.2136 - accuracy: 0.4557 - val_loss: 1.2385 - val_accuracy: 0.4414\n",
            "Epoch 139/500\n",
            "24/24 [==============================] - 0s 6ms/step - loss: 1.2137 - accuracy: 0.4577 - val_loss: 1.2374 - val_accuracy: 0.4404\n",
            "Epoch 140/500\n",
            "24/24 [==============================] - 0s 5ms/step - loss: 1.2123 - accuracy: 0.4531 - val_loss: 1.2377 - val_accuracy: 0.4359\n",
            "Epoch 141/500\n",
            "24/24 [==============================] - 0s 5ms/step - loss: 1.2119 - accuracy: 0.4558 - val_loss: 1.2376 - val_accuracy: 0.4359\n",
            "Epoch 142/500\n",
            "24/24 [==============================] - 0s 7ms/step - loss: 1.2117 - accuracy: 0.4573 - val_loss: 1.2389 - val_accuracy: 0.4473\n",
            "Epoch 143/500\n",
            "24/24 [==============================] - 0s 7ms/step - loss: 1.2130 - accuracy: 0.4555 - val_loss: 1.2360 - val_accuracy: 0.4394\n",
            "Epoch 144/500\n",
            "24/24 [==============================] - 0s 5ms/step - loss: 1.2109 - accuracy: 0.4546 - val_loss: 1.2372 - val_accuracy: 0.4363\n",
            "Epoch 145/500\n",
            "24/24 [==============================] - 0s 5ms/step - loss: 1.2119 - accuracy: 0.4535 - val_loss: 1.2369 - val_accuracy: 0.4414\n",
            "Epoch 146/500\n",
            "24/24 [==============================] - 0s 5ms/step - loss: 1.2122 - accuracy: 0.4607 - val_loss: 1.2378 - val_accuracy: 0.4339\n",
            "Epoch 147/500\n",
            "24/24 [==============================] - 0s 6ms/step - loss: 1.2114 - accuracy: 0.4582 - val_loss: 1.2364 - val_accuracy: 0.4394\n",
            "Epoch 148/500\n",
            "24/24 [==============================] - 0s 8ms/step - loss: 1.2103 - accuracy: 0.4577 - val_loss: 1.2360 - val_accuracy: 0.4387\n",
            "Epoch 149/500\n",
            "24/24 [==============================] - 0s 7ms/step - loss: 1.2103 - accuracy: 0.4590 - val_loss: 1.2360 - val_accuracy: 0.4394\n",
            "Epoch 150/500\n",
            "24/24 [==============================] - 0s 6ms/step - loss: 1.2105 - accuracy: 0.4590 - val_loss: 1.2369 - val_accuracy: 0.4387\n",
            "Epoch 151/500\n",
            "24/24 [==============================] - 0s 8ms/step - loss: 1.2101 - accuracy: 0.4582 - val_loss: 1.2352 - val_accuracy: 0.4407\n",
            "Epoch 152/500\n",
            "24/24 [==============================] - 0s 8ms/step - loss: 1.2110 - accuracy: 0.4524 - val_loss: 1.2351 - val_accuracy: 0.4404\n",
            "Epoch 153/500\n",
            "24/24 [==============================] - 0s 6ms/step - loss: 1.2109 - accuracy: 0.4584 - val_loss: 1.2351 - val_accuracy: 0.4414\n",
            "Epoch 154/500\n",
            "24/24 [==============================] - 0s 6ms/step - loss: 1.2098 - accuracy: 0.4612 - val_loss: 1.2359 - val_accuracy: 0.4380\n",
            "Epoch 155/500\n",
            "24/24 [==============================] - 0s 8ms/step - loss: 1.2103 - accuracy: 0.4528 - val_loss: 1.2351 - val_accuracy: 0.4425\n",
            "Epoch 156/500\n",
            "24/24 [==============================] - 0s 11ms/step - loss: 1.2102 - accuracy: 0.4568 - val_loss: 1.2353 - val_accuracy: 0.4377\n",
            "Epoch 157/500\n",
            "24/24 [==============================] - 0s 11ms/step - loss: 1.2099 - accuracy: 0.4577 - val_loss: 1.2346 - val_accuracy: 0.4404\n",
            "Epoch 158/500\n",
            "24/24 [==============================] - 0s 10ms/step - loss: 1.2079 - accuracy: 0.4589 - val_loss: 1.2336 - val_accuracy: 0.4401\n",
            "Epoch 159/500\n",
            "24/24 [==============================] - 0s 10ms/step - loss: 1.2080 - accuracy: 0.4604 - val_loss: 1.2346 - val_accuracy: 0.4380\n",
            "Epoch 160/500\n",
            "24/24 [==============================] - 0s 9ms/step - loss: 1.2087 - accuracy: 0.4573 - val_loss: 1.2344 - val_accuracy: 0.4373\n",
            "Epoch 161/500\n",
            "24/24 [==============================] - 0s 10ms/step - loss: 1.2074 - accuracy: 0.4599 - val_loss: 1.2341 - val_accuracy: 0.4414\n",
            "Epoch 162/500\n",
            "24/24 [==============================] - 0s 10ms/step - loss: 1.2076 - accuracy: 0.4594 - val_loss: 1.2344 - val_accuracy: 0.4377\n",
            "Epoch 163/500\n",
            "24/24 [==============================] - 0s 13ms/step - loss: 1.2078 - accuracy: 0.4602 - val_loss: 1.2347 - val_accuracy: 0.4359\n",
            "Epoch 164/500\n",
            "24/24 [==============================] - 0s 10ms/step - loss: 1.2087 - accuracy: 0.4572 - val_loss: 1.2350 - val_accuracy: 0.4428\n",
            "Epoch 165/500\n",
            "24/24 [==============================] - 0s 9ms/step - loss: 1.2075 - accuracy: 0.4577 - val_loss: 1.2329 - val_accuracy: 0.4404\n",
            "Epoch 166/500\n",
            "24/24 [==============================] - 0s 7ms/step - loss: 1.2070 - accuracy: 0.4619 - val_loss: 1.2345 - val_accuracy: 0.4425\n",
            "Epoch 167/500\n",
            "24/24 [==============================] - 0s 7ms/step - loss: 1.2089 - accuracy: 0.4604 - val_loss: 1.2348 - val_accuracy: 0.4449\n",
            "Epoch 168/500\n",
            "24/24 [==============================] - 0s 5ms/step - loss: 1.2092 - accuracy: 0.4567 - val_loss: 1.2338 - val_accuracy: 0.4356\n",
            "Epoch 169/500\n",
            "24/24 [==============================] - 0s 7ms/step - loss: 1.2071 - accuracy: 0.4616 - val_loss: 1.2321 - val_accuracy: 0.4370\n",
            "Epoch 170/500\n",
            "24/24 [==============================] - 0s 6ms/step - loss: 1.2056 - accuracy: 0.4660 - val_loss: 1.2331 - val_accuracy: 0.4342\n",
            "Epoch 171/500\n",
            "24/24 [==============================] - 0s 7ms/step - loss: 1.2063 - accuracy: 0.4602 - val_loss: 1.2337 - val_accuracy: 0.4428\n",
            "Epoch 172/500\n",
            "24/24 [==============================] - 0s 7ms/step - loss: 1.2059 - accuracy: 0.4624 - val_loss: 1.2326 - val_accuracy: 0.4411\n",
            "Epoch 173/500\n",
            "24/24 [==============================] - 0s 7ms/step - loss: 1.2051 - accuracy: 0.4643 - val_loss: 1.2324 - val_accuracy: 0.4411\n",
            "Epoch 174/500\n",
            "24/24 [==============================] - 0s 8ms/step - loss: 1.2048 - accuracy: 0.4641 - val_loss: 1.2322 - val_accuracy: 0.4363\n",
            "Epoch 175/500\n",
            "24/24 [==============================] - 0s 7ms/step - loss: 1.2060 - accuracy: 0.4614 - val_loss: 1.2332 - val_accuracy: 0.4342\n",
            "Epoch 176/500\n",
            "24/24 [==============================] - 0s 7ms/step - loss: 1.2050 - accuracy: 0.4634 - val_loss: 1.2329 - val_accuracy: 0.4380\n",
            "Epoch 177/500\n",
            "24/24 [==============================] - 0s 7ms/step - loss: 1.2046 - accuracy: 0.4602 - val_loss: 1.2318 - val_accuracy: 0.4373\n",
            "Epoch 178/500\n",
            "24/24 [==============================] - 0s 7ms/step - loss: 1.2044 - accuracy: 0.4658 - val_loss: 1.2318 - val_accuracy: 0.4397\n",
            "Epoch 179/500\n",
            "24/24 [==============================] - 0s 7ms/step - loss: 1.2037 - accuracy: 0.4639 - val_loss: 1.2313 - val_accuracy: 0.4404\n",
            "Epoch 180/500\n",
            "24/24 [==============================] - 0s 6ms/step - loss: 1.2037 - accuracy: 0.4673 - val_loss: 1.2321 - val_accuracy: 0.4397\n",
            "Epoch 181/500\n",
            "24/24 [==============================] - 0s 5ms/step - loss: 1.2044 - accuracy: 0.4604 - val_loss: 1.2343 - val_accuracy: 0.4466\n",
            "Epoch 182/500\n",
            "24/24 [==============================] - 0s 7ms/step - loss: 1.2044 - accuracy: 0.4672 - val_loss: 1.2332 - val_accuracy: 0.4411\n",
            "Epoch 183/500\n",
            "24/24 [==============================] - 0s 5ms/step - loss: 1.2035 - accuracy: 0.4651 - val_loss: 1.2310 - val_accuracy: 0.4425\n",
            "Epoch 184/500\n",
            "24/24 [==============================] - 0s 8ms/step - loss: 1.2041 - accuracy: 0.4645 - val_loss: 1.2314 - val_accuracy: 0.4407\n",
            "Epoch 185/500\n",
            "24/24 [==============================] - 0s 7ms/step - loss: 1.2037 - accuracy: 0.4648 - val_loss: 1.2317 - val_accuracy: 0.4366\n",
            "Epoch 186/500\n",
            "24/24 [==============================] - 0s 8ms/step - loss: 1.2030 - accuracy: 0.4673 - val_loss: 1.2304 - val_accuracy: 0.4401\n",
            "Epoch 187/500\n",
            "24/24 [==============================] - 0s 8ms/step - loss: 1.2026 - accuracy: 0.4680 - val_loss: 1.2310 - val_accuracy: 0.4397\n",
            "Epoch 188/500\n",
            "24/24 [==============================] - 0s 6ms/step - loss: 1.2029 - accuracy: 0.4643 - val_loss: 1.2311 - val_accuracy: 0.4356\n",
            "Epoch 189/500\n",
            "24/24 [==============================] - 0s 6ms/step - loss: 1.2019 - accuracy: 0.4643 - val_loss: 1.2298 - val_accuracy: 0.4390\n",
            "Epoch 190/500\n",
            "24/24 [==============================] - 0s 5ms/step - loss: 1.2017 - accuracy: 0.4653 - val_loss: 1.2300 - val_accuracy: 0.4401\n",
            "Epoch 191/500\n",
            "24/24 [==============================] - 0s 5ms/step - loss: 1.2012 - accuracy: 0.4672 - val_loss: 1.2308 - val_accuracy: 0.4404\n",
            "Epoch 192/500\n",
            "24/24 [==============================] - 0s 5ms/step - loss: 1.2010 - accuracy: 0.4683 - val_loss: 1.2301 - val_accuracy: 0.4380\n",
            "Epoch 193/500\n",
            "24/24 [==============================] - 0s 7ms/step - loss: 1.2009 - accuracy: 0.4634 - val_loss: 1.2313 - val_accuracy: 0.4449\n",
            "Epoch 194/500\n",
            "24/24 [==============================] - 0s 7ms/step - loss: 1.2016 - accuracy: 0.4633 - val_loss: 1.2295 - val_accuracy: 0.4431\n",
            "Epoch 195/500\n",
            "24/24 [==============================] - 0s 5ms/step - loss: 1.2005 - accuracy: 0.4702 - val_loss: 1.2308 - val_accuracy: 0.4387\n",
            "Epoch 196/500\n",
            "24/24 [==============================] - 0s 5ms/step - loss: 1.2015 - accuracy: 0.4631 - val_loss: 1.2289 - val_accuracy: 0.4425\n",
            "Epoch 197/500\n",
            "24/24 [==============================] - 0s 5ms/step - loss: 1.2009 - accuracy: 0.4650 - val_loss: 1.2309 - val_accuracy: 0.4363\n",
            "Epoch 198/500\n",
            "24/24 [==============================] - 0s 5ms/step - loss: 1.1998 - accuracy: 0.4667 - val_loss: 1.2292 - val_accuracy: 0.4456\n",
            "Epoch 199/500\n",
            "24/24 [==============================] - 0s 5ms/step - loss: 1.2003 - accuracy: 0.4672 - val_loss: 1.2291 - val_accuracy: 0.4414\n",
            "Epoch 200/500\n",
            "24/24 [==============================] - 0s 6ms/step - loss: 1.2010 - accuracy: 0.4634 - val_loss: 1.2296 - val_accuracy: 0.4425\n",
            "Epoch 201/500\n",
            "24/24 [==============================] - 0s 5ms/step - loss: 1.2018 - accuracy: 0.4648 - val_loss: 1.2281 - val_accuracy: 0.4435\n",
            "Epoch 202/500\n",
            "24/24 [==============================] - 0s 5ms/step - loss: 1.2004 - accuracy: 0.4645 - val_loss: 1.2296 - val_accuracy: 0.4466\n",
            "Epoch 203/500\n",
            "24/24 [==============================] - 0s 5ms/step - loss: 1.1988 - accuracy: 0.4692 - val_loss: 1.2291 - val_accuracy: 0.4377\n",
            "Epoch 204/500\n",
            "24/24 [==============================] - 0s 9ms/step - loss: 1.2004 - accuracy: 0.4631 - val_loss: 1.2325 - val_accuracy: 0.4431\n",
            "Epoch 205/500\n",
            "24/24 [==============================] - 0s 7ms/step - loss: 1.2004 - accuracy: 0.4653 - val_loss: 1.2283 - val_accuracy: 0.4425\n",
            "Epoch 206/500\n",
            "24/24 [==============================] - 0s 9ms/step - loss: 1.1996 - accuracy: 0.4667 - val_loss: 1.2284 - val_accuracy: 0.4483\n",
            "Epoch 207/500\n",
            "24/24 [==============================] - 0s 6ms/step - loss: 1.1989 - accuracy: 0.4682 - val_loss: 1.2285 - val_accuracy: 0.4401\n",
            "Epoch 208/500\n",
            "24/24 [==============================] - 0s 7ms/step - loss: 1.1985 - accuracy: 0.4697 - val_loss: 1.2280 - val_accuracy: 0.4425\n",
            "Epoch 209/500\n",
            "24/24 [==============================] - 0s 8ms/step - loss: 1.1983 - accuracy: 0.4702 - val_loss: 1.2281 - val_accuracy: 0.4401\n",
            "Epoch 210/500\n",
            "24/24 [==============================] - 0s 6ms/step - loss: 1.1984 - accuracy: 0.4667 - val_loss: 1.2283 - val_accuracy: 0.4418\n",
            "Epoch 211/500\n",
            "24/24 [==============================] - 0s 8ms/step - loss: 1.1984 - accuracy: 0.4692 - val_loss: 1.2272 - val_accuracy: 0.4435\n",
            "Epoch 212/500\n",
            "24/24 [==============================] - 0s 7ms/step - loss: 1.1978 - accuracy: 0.4704 - val_loss: 1.2284 - val_accuracy: 0.4428\n",
            "Epoch 213/500\n",
            "24/24 [==============================] - 0s 9ms/step - loss: 1.1992 - accuracy: 0.4656 - val_loss: 1.2282 - val_accuracy: 0.4438\n",
            "Epoch 214/500\n",
            "24/24 [==============================] - 0s 8ms/step - loss: 1.1972 - accuracy: 0.4690 - val_loss: 1.2282 - val_accuracy: 0.4425\n",
            "Epoch 215/500\n",
            "24/24 [==============================] - 0s 8ms/step - loss: 1.1971 - accuracy: 0.4668 - val_loss: 1.2277 - val_accuracy: 0.4411\n",
            "Epoch 216/500\n",
            "24/24 [==============================] - 0s 7ms/step - loss: 1.1968 - accuracy: 0.4697 - val_loss: 1.2271 - val_accuracy: 0.4418\n",
            "Epoch 217/500\n",
            "24/24 [==============================] - 0s 8ms/step - loss: 1.1981 - accuracy: 0.4665 - val_loss: 1.2278 - val_accuracy: 0.4483\n",
            "Epoch 218/500\n",
            "24/24 [==============================] - 0s 7ms/step - loss: 1.1967 - accuracy: 0.4673 - val_loss: 1.2280 - val_accuracy: 0.4428\n",
            "Epoch 219/500\n",
            "24/24 [==============================] - 0s 8ms/step - loss: 1.1957 - accuracy: 0.4716 - val_loss: 1.2272 - val_accuracy: 0.4421\n",
            "Epoch 220/500\n",
            "24/24 [==============================] - 0s 5ms/step - loss: 1.1974 - accuracy: 0.4716 - val_loss: 1.2288 - val_accuracy: 0.4394\n",
            "Epoch 221/500\n",
            "24/24 [==============================] - 0s 7ms/step - loss: 1.1973 - accuracy: 0.4678 - val_loss: 1.2270 - val_accuracy: 0.4462\n",
            "Epoch 222/500\n",
            "24/24 [==============================] - 0s 5ms/step - loss: 1.1967 - accuracy: 0.4694 - val_loss: 1.2262 - val_accuracy: 0.4473\n",
            "Epoch 223/500\n",
            "24/24 [==============================] - 0s 5ms/step - loss: 1.1952 - accuracy: 0.4734 - val_loss: 1.2277 - val_accuracy: 0.4414\n",
            "Epoch 224/500\n",
            "24/24 [==============================] - 0s 6ms/step - loss: 1.1958 - accuracy: 0.4705 - val_loss: 1.2273 - val_accuracy: 0.4404\n",
            "Epoch 225/500\n",
            "24/24 [==============================] - 0s 7ms/step - loss: 1.1959 - accuracy: 0.4712 - val_loss: 1.2275 - val_accuracy: 0.4435\n",
            "Epoch 226/500\n",
            "24/24 [==============================] - 0s 6ms/step - loss: 1.1953 - accuracy: 0.4719 - val_loss: 1.2270 - val_accuracy: 0.4431\n",
            "Epoch 227/500\n",
            "24/24 [==============================] - 0s 6ms/step - loss: 1.1952 - accuracy: 0.4712 - val_loss: 1.2265 - val_accuracy: 0.4435\n",
            "Epoch 228/500\n",
            "24/24 [==============================] - 0s 10ms/step - loss: 1.1960 - accuracy: 0.4707 - val_loss: 1.2293 - val_accuracy: 0.4418\n",
            "Epoch 229/500\n",
            "24/24 [==============================] - 0s 12ms/step - loss: 1.1953 - accuracy: 0.4680 - val_loss: 1.2262 - val_accuracy: 0.4421\n",
            "Epoch 230/500\n",
            "24/24 [==============================] - 0s 10ms/step - loss: 1.1957 - accuracy: 0.4680 - val_loss: 1.2279 - val_accuracy: 0.4418\n",
            "Epoch 231/500\n",
            "24/24 [==============================] - 0s 9ms/step - loss: 1.1952 - accuracy: 0.4704 - val_loss: 1.2271 - val_accuracy: 0.4401\n",
            "Epoch 232/500\n",
            "24/24 [==============================] - 0s 9ms/step - loss: 1.1957 - accuracy: 0.4716 - val_loss: 1.2258 - val_accuracy: 0.4462\n",
            "Epoch 233/500\n",
            "24/24 [==============================] - 0s 10ms/step - loss: 1.1945 - accuracy: 0.4717 - val_loss: 1.2273 - val_accuracy: 0.4449\n",
            "Epoch 234/500\n",
            "24/24 [==============================] - 0s 11ms/step - loss: 1.1944 - accuracy: 0.4731 - val_loss: 1.2265 - val_accuracy: 0.4387\n",
            "Epoch 235/500\n",
            "24/24 [==============================] - 0s 10ms/step - loss: 1.1959 - accuracy: 0.4704 - val_loss: 1.2275 - val_accuracy: 0.4390\n",
            "Epoch 236/500\n",
            "24/24 [==============================] - 0s 10ms/step - loss: 1.1945 - accuracy: 0.4724 - val_loss: 1.2263 - val_accuracy: 0.4421\n",
            "Epoch 237/500\n",
            "24/24 [==============================] - 0s 11ms/step - loss: 1.1944 - accuracy: 0.4714 - val_loss: 1.2262 - val_accuracy: 0.4397\n",
            "Epoch 238/500\n",
            "24/24 [==============================] - 0s 11ms/step - loss: 1.1955 - accuracy: 0.4704 - val_loss: 1.2273 - val_accuracy: 0.4445\n",
            "Epoch 239/500\n",
            "24/24 [==============================] - 0s 10ms/step - loss: 1.1934 - accuracy: 0.4685 - val_loss: 1.2266 - val_accuracy: 0.4449\n",
            "Epoch 240/500\n",
            "24/24 [==============================] - 0s 9ms/step - loss: 1.1929 - accuracy: 0.4721 - val_loss: 1.2264 - val_accuracy: 0.4421\n",
            "Epoch 241/500\n",
            "24/24 [==============================] - 0s 6ms/step - loss: 1.1938 - accuracy: 0.4695 - val_loss: 1.2255 - val_accuracy: 0.4469\n",
            "Epoch 242/500\n",
            "24/24 [==============================] - 0s 7ms/step - loss: 1.1952 - accuracy: 0.4705 - val_loss: 1.2271 - val_accuracy: 0.4476\n",
            "Epoch 243/500\n",
            "24/24 [==============================] - 0s 6ms/step - loss: 1.1939 - accuracy: 0.4694 - val_loss: 1.2253 - val_accuracy: 0.4476\n",
            "Epoch 244/500\n",
            "24/24 [==============================] - 0s 7ms/step - loss: 1.1929 - accuracy: 0.4724 - val_loss: 1.2253 - val_accuracy: 0.4435\n",
            "Epoch 245/500\n",
            "24/24 [==============================] - 0s 6ms/step - loss: 1.1930 - accuracy: 0.4711 - val_loss: 1.2248 - val_accuracy: 0.4383\n",
            "Epoch 246/500\n",
            "24/24 [==============================] - 0s 8ms/step - loss: 1.1928 - accuracy: 0.4733 - val_loss: 1.2259 - val_accuracy: 0.4397\n",
            "Epoch 247/500\n",
            "24/24 [==============================] - 0s 8ms/step - loss: 1.1935 - accuracy: 0.4689 - val_loss: 1.2268 - val_accuracy: 0.4387\n",
            "Epoch 248/500\n",
            "24/24 [==============================] - 0s 8ms/step - loss: 1.1929 - accuracy: 0.4677 - val_loss: 1.2250 - val_accuracy: 0.4425\n",
            "Epoch 249/500\n",
            "24/24 [==============================] - 0s 6ms/step - loss: 1.1934 - accuracy: 0.4705 - val_loss: 1.2250 - val_accuracy: 0.4438\n",
            "Epoch 250/500\n",
            "24/24 [==============================] - 0s 5ms/step - loss: 1.1927 - accuracy: 0.4697 - val_loss: 1.2251 - val_accuracy: 0.4456\n",
            "Epoch 251/500\n",
            "24/24 [==============================] - 0s 5ms/step - loss: 1.1927 - accuracy: 0.4683 - val_loss: 1.2253 - val_accuracy: 0.4431\n",
            "Epoch 252/500\n",
            "24/24 [==============================] - 0s 5ms/step - loss: 1.1945 - accuracy: 0.4736 - val_loss: 1.2275 - val_accuracy: 0.4421\n",
            "Epoch 253/500\n",
            "24/24 [==============================] - 0s 5ms/step - loss: 1.1931 - accuracy: 0.4738 - val_loss: 1.2266 - val_accuracy: 0.4421\n",
            "Epoch 254/500\n",
            "24/24 [==============================] - 0s 4ms/step - loss: 1.1944 - accuracy: 0.4712 - val_loss: 1.2261 - val_accuracy: 0.4445\n",
            "Epoch 255/500\n",
            "24/24 [==============================] - 0s 7ms/step - loss: 1.1923 - accuracy: 0.4738 - val_loss: 1.2250 - val_accuracy: 0.4404\n",
            "Epoch 256/500\n",
            "24/24 [==============================] - 0s 5ms/step - loss: 1.1918 - accuracy: 0.4738 - val_loss: 1.2262 - val_accuracy: 0.4469\n",
            "Epoch 257/500\n",
            "24/24 [==============================] - 0s 5ms/step - loss: 1.1916 - accuracy: 0.4738 - val_loss: 1.2251 - val_accuracy: 0.4459\n",
            "Epoch 258/500\n",
            "24/24 [==============================] - 0s 8ms/step - loss: 1.1916 - accuracy: 0.4753 - val_loss: 1.2259 - val_accuracy: 0.4421\n",
            "Epoch 259/500\n",
            "24/24 [==============================] - 0s 8ms/step - loss: 1.1932 - accuracy: 0.4719 - val_loss: 1.2257 - val_accuracy: 0.4462\n",
            "Epoch 260/500\n",
            "24/24 [==============================] - 0s 6ms/step - loss: 1.1924 - accuracy: 0.4749 - val_loss: 1.2259 - val_accuracy: 0.4390\n",
            "Epoch 261/500\n",
            "24/24 [==============================] - 0s 8ms/step - loss: 1.1933 - accuracy: 0.4704 - val_loss: 1.2260 - val_accuracy: 0.4407\n",
            "Epoch 262/500\n",
            "24/24 [==============================] - 0s 8ms/step - loss: 1.1922 - accuracy: 0.4719 - val_loss: 1.2246 - val_accuracy: 0.4469\n",
            "Epoch 263/500\n",
            "24/24 [==============================] - 0s 5ms/step - loss: 1.1915 - accuracy: 0.4756 - val_loss: 1.2255 - val_accuracy: 0.4421\n",
            "Epoch 264/500\n",
            "24/24 [==============================] - 0s 5ms/step - loss: 1.1917 - accuracy: 0.4727 - val_loss: 1.2262 - val_accuracy: 0.4445\n",
            "Epoch 265/500\n",
            "24/24 [==============================] - 0s 5ms/step - loss: 1.1932 - accuracy: 0.4705 - val_loss: 1.2248 - val_accuracy: 0.4452\n",
            "Epoch 266/500\n",
            "24/24 [==============================] - 0s 6ms/step - loss: 1.1927 - accuracy: 0.4704 - val_loss: 1.2247 - val_accuracy: 0.4394\n",
            "Epoch 267/500\n",
            "24/24 [==============================] - 0s 7ms/step - loss: 1.1909 - accuracy: 0.4775 - val_loss: 1.2239 - val_accuracy: 0.4459\n",
            "Epoch 268/500\n",
            "24/24 [==============================] - 0s 5ms/step - loss: 1.1903 - accuracy: 0.4711 - val_loss: 1.2257 - val_accuracy: 0.4431\n",
            "Epoch 269/500\n",
            "24/24 [==============================] - 0s 5ms/step - loss: 1.1907 - accuracy: 0.4739 - val_loss: 1.2261 - val_accuracy: 0.4411\n",
            "Epoch 270/500\n",
            "24/24 [==============================] - 0s 5ms/step - loss: 1.1913 - accuracy: 0.4702 - val_loss: 1.2249 - val_accuracy: 0.4462\n",
            "Epoch 271/500\n",
            "24/24 [==============================] - 0s 5ms/step - loss: 1.1903 - accuracy: 0.4770 - val_loss: 1.2243 - val_accuracy: 0.4431\n",
            "Epoch 272/500\n",
            "24/24 [==============================] - 0s 6ms/step - loss: 1.1910 - accuracy: 0.4722 - val_loss: 1.2239 - val_accuracy: 0.4476\n",
            "Epoch 273/500\n",
            "24/24 [==============================] - 0s 5ms/step - loss: 1.1905 - accuracy: 0.4756 - val_loss: 1.2242 - val_accuracy: 0.4449\n",
            "Epoch 274/500\n",
            "24/24 [==============================] - 0s 5ms/step - loss: 1.1937 - accuracy: 0.4709 - val_loss: 1.2247 - val_accuracy: 0.4469\n",
            "Epoch 275/500\n",
            "24/24 [==============================] - 0s 5ms/step - loss: 1.1919 - accuracy: 0.4712 - val_loss: 1.2239 - val_accuracy: 0.4452\n",
            "Epoch 276/500\n",
            "24/24 [==============================] - 0s 5ms/step - loss: 1.1918 - accuracy: 0.4755 - val_loss: 1.2251 - val_accuracy: 0.4418\n",
            "Epoch 277/500\n",
            "24/24 [==============================] - 0s 5ms/step - loss: 1.1903 - accuracy: 0.4744 - val_loss: 1.2251 - val_accuracy: 0.4431\n",
            "Epoch 278/500\n",
            "24/24 [==============================] - 0s 6ms/step - loss: 1.1899 - accuracy: 0.4749 - val_loss: 1.2251 - val_accuracy: 0.4421\n",
            "Epoch 279/500\n",
            "24/24 [==============================] - 0s 5ms/step - loss: 1.1908 - accuracy: 0.4790 - val_loss: 1.2243 - val_accuracy: 0.4431\n",
            "Epoch 280/500\n",
            "24/24 [==============================] - 0s 5ms/step - loss: 1.1914 - accuracy: 0.4726 - val_loss: 1.2272 - val_accuracy: 0.4473\n",
            "Epoch 281/500\n",
            "24/24 [==============================] - 0s 5ms/step - loss: 1.1917 - accuracy: 0.4744 - val_loss: 1.2240 - val_accuracy: 0.4466\n",
            "Epoch 282/500\n",
            "24/24 [==============================] - 0s 5ms/step - loss: 1.1896 - accuracy: 0.4780 - val_loss: 1.2249 - val_accuracy: 0.4425\n",
            "Epoch 283/500\n",
            "24/24 [==============================] - 0s 6ms/step - loss: 1.1904 - accuracy: 0.4733 - val_loss: 1.2247 - val_accuracy: 0.4428\n",
            "Epoch 284/500\n",
            "24/24 [==============================] - 0s 5ms/step - loss: 1.1896 - accuracy: 0.4744 - val_loss: 1.2249 - val_accuracy: 0.4449\n",
            "Epoch 285/500\n",
            "24/24 [==============================] - 0s 5ms/step - loss: 1.1899 - accuracy: 0.4744 - val_loss: 1.2251 - val_accuracy: 0.4473\n",
            "Epoch 286/500\n",
            "24/24 [==============================] - 0s 6ms/step - loss: 1.1906 - accuracy: 0.4738 - val_loss: 1.2243 - val_accuracy: 0.4431\n",
            "Epoch 287/500\n",
            "24/24 [==============================] - 0s 8ms/step - loss: 1.1893 - accuracy: 0.4766 - val_loss: 1.2243 - val_accuracy: 0.4442\n",
            "Epoch 288/500\n",
            "24/24 [==============================] - 0s 7ms/step - loss: 1.1893 - accuracy: 0.4743 - val_loss: 1.2241 - val_accuracy: 0.4442\n",
            "Epoch 289/500\n",
            "24/24 [==============================] - 0s 9ms/step - loss: 1.1907 - accuracy: 0.4719 - val_loss: 1.2242 - val_accuracy: 0.4462\n",
            "Epoch 290/500\n",
            "24/24 [==============================] - 0s 8ms/step - loss: 1.1899 - accuracy: 0.4763 - val_loss: 1.2253 - val_accuracy: 0.4442\n",
            "Epoch 291/500\n",
            "24/24 [==============================] - 0s 5ms/step - loss: 1.1915 - accuracy: 0.4743 - val_loss: 1.2239 - val_accuracy: 0.4462\n",
            "Epoch 292/500\n",
            "24/24 [==============================] - 0s 5ms/step - loss: 1.1902 - accuracy: 0.4761 - val_loss: 1.2240 - val_accuracy: 0.4425\n",
            "Epoch 293/500\n",
            "24/24 [==============================] - 0s 5ms/step - loss: 1.1889 - accuracy: 0.4761 - val_loss: 1.2260 - val_accuracy: 0.4483\n",
            "Epoch 294/500\n",
            "24/24 [==============================] - 0s 5ms/step - loss: 1.1898 - accuracy: 0.4700 - val_loss: 1.2246 - val_accuracy: 0.4466\n",
            "Epoch 295/500\n",
            "24/24 [==============================] - 0s 7ms/step - loss: 1.1906 - accuracy: 0.4739 - val_loss: 1.2238 - val_accuracy: 0.4466\n",
            "Epoch 296/500\n",
            "24/24 [==============================] - 0s 5ms/step - loss: 1.1902 - accuracy: 0.4756 - val_loss: 1.2249 - val_accuracy: 0.4438\n",
            "Epoch 297/500\n",
            "24/24 [==============================] - 0s 5ms/step - loss: 1.1891 - accuracy: 0.4756 - val_loss: 1.2242 - val_accuracy: 0.4466\n",
            "Epoch 298/500\n",
            "24/24 [==============================] - 0s 5ms/step - loss: 1.1896 - accuracy: 0.4763 - val_loss: 1.2246 - val_accuracy: 0.4486\n",
            "Epoch 299/500\n",
            "24/24 [==============================] - 0s 5ms/step - loss: 1.1895 - accuracy: 0.4751 - val_loss: 1.2260 - val_accuracy: 0.4456\n",
            "Epoch 300/500\n",
            "24/24 [==============================] - 0s 5ms/step - loss: 1.1906 - accuracy: 0.4775 - val_loss: 1.2250 - val_accuracy: 0.4421\n",
            "Epoch 301/500\n",
            "24/24 [==============================] - 0s 5ms/step - loss: 1.1890 - accuracy: 0.4749 - val_loss: 1.2242 - val_accuracy: 0.4473\n",
            "Epoch 302/500\n",
            "24/24 [==============================] - 0s 5ms/step - loss: 1.1888 - accuracy: 0.4758 - val_loss: 1.2236 - val_accuracy: 0.4462\n",
            "Epoch 303/500\n",
            "24/24 [==============================] - 0s 5ms/step - loss: 1.1893 - accuracy: 0.4726 - val_loss: 1.2238 - val_accuracy: 0.4462\n",
            "Epoch 304/500\n",
            "24/24 [==============================] - 0s 5ms/step - loss: 1.1893 - accuracy: 0.4763 - val_loss: 1.2244 - val_accuracy: 0.4480\n",
            "Epoch 305/500\n",
            "24/24 [==============================] - 0s 5ms/step - loss: 1.1882 - accuracy: 0.4771 - val_loss: 1.2226 - val_accuracy: 0.4466\n",
            "Epoch 306/500\n",
            "24/24 [==============================] - 0s 5ms/step - loss: 1.1888 - accuracy: 0.4780 - val_loss: 1.2236 - val_accuracy: 0.4473\n",
            "Epoch 307/500\n",
            "24/24 [==============================] - 0s 6ms/step - loss: 1.1883 - accuracy: 0.4768 - val_loss: 1.2278 - val_accuracy: 0.4459\n",
            "Epoch 308/500\n",
            "24/24 [==============================] - 0s 8ms/step - loss: 1.1904 - accuracy: 0.4753 - val_loss: 1.2231 - val_accuracy: 0.4521\n",
            "Epoch 309/500\n",
            "24/24 [==============================] - 0s 8ms/step - loss: 1.1904 - accuracy: 0.4729 - val_loss: 1.2236 - val_accuracy: 0.4459\n",
            "Epoch 310/500\n",
            "24/24 [==============================] - 0s 8ms/step - loss: 1.1883 - accuracy: 0.4792 - val_loss: 1.2239 - val_accuracy: 0.4428\n",
            "Epoch 311/500\n",
            "24/24 [==============================] - 0s 8ms/step - loss: 1.1877 - accuracy: 0.4734 - val_loss: 1.2234 - val_accuracy: 0.4435\n",
            "Epoch 312/500\n",
            "24/24 [==============================] - 0s 10ms/step - loss: 1.1882 - accuracy: 0.4780 - val_loss: 1.2253 - val_accuracy: 0.4483\n",
            "Epoch 313/500\n",
            "24/24 [==============================] - 0s 11ms/step - loss: 1.1888 - accuracy: 0.4727 - val_loss: 1.2230 - val_accuracy: 0.4483\n",
            "Epoch 314/500\n",
            "24/24 [==============================] - 0s 10ms/step - loss: 1.1878 - accuracy: 0.4802 - val_loss: 1.2233 - val_accuracy: 0.4456\n",
            "Epoch 315/500\n",
            "24/24 [==============================] - 0s 10ms/step - loss: 1.1872 - accuracy: 0.4761 - val_loss: 1.2236 - val_accuracy: 0.4466\n",
            "Epoch 316/500\n",
            "24/24 [==============================] - 0s 9ms/step - loss: 1.1883 - accuracy: 0.4778 - val_loss: 1.2260 - val_accuracy: 0.4387\n",
            "Epoch 317/500\n",
            "24/24 [==============================] - 0s 8ms/step - loss: 1.1922 - accuracy: 0.4700 - val_loss: 1.2241 - val_accuracy: 0.4459\n",
            "Epoch 318/500\n",
            "24/24 [==============================] - 0s 10ms/step - loss: 1.1882 - accuracy: 0.4748 - val_loss: 1.2229 - val_accuracy: 0.4483\n",
            "Epoch 319/500\n",
            "24/24 [==============================] - 0s 8ms/step - loss: 1.1887 - accuracy: 0.4755 - val_loss: 1.2239 - val_accuracy: 0.4476\n",
            "Epoch 320/500\n",
            "24/24 [==============================] - 0s 6ms/step - loss: 1.1879 - accuracy: 0.4805 - val_loss: 1.2264 - val_accuracy: 0.4493\n",
            "Epoch 321/500\n",
            "24/24 [==============================] - 0s 4ms/step - loss: 1.1887 - accuracy: 0.4758 - val_loss: 1.2252 - val_accuracy: 0.4476\n",
            "Epoch 322/500\n",
            "24/24 [==============================] - 0s 5ms/step - loss: 1.1880 - accuracy: 0.4768 - val_loss: 1.2235 - val_accuracy: 0.4456\n",
            "Epoch 323/500\n",
            "24/24 [==============================] - 0s 7ms/step - loss: 1.1873 - accuracy: 0.4790 - val_loss: 1.2233 - val_accuracy: 0.4397\n",
            "Epoch 324/500\n",
            "24/24 [==============================] - 0s 5ms/step - loss: 1.1869 - accuracy: 0.4778 - val_loss: 1.2236 - val_accuracy: 0.4466\n",
            "Epoch 325/500\n",
            "24/24 [==============================] - 0s 5ms/step - loss: 1.1869 - accuracy: 0.4751 - val_loss: 1.2228 - val_accuracy: 0.4493\n",
            "Epoch 326/500\n",
            "24/24 [==============================] - 0s 5ms/step - loss: 1.1880 - accuracy: 0.4741 - val_loss: 1.2225 - val_accuracy: 0.4500\n",
            "Epoch 327/500\n",
            "24/24 [==============================] - 0s 5ms/step - loss: 1.1868 - accuracy: 0.4807 - val_loss: 1.2240 - val_accuracy: 0.4442\n",
            "Epoch 328/500\n",
            "24/24 [==============================] - 0s 5ms/step - loss: 1.1870 - accuracy: 0.4785 - val_loss: 1.2242 - val_accuracy: 0.4507\n",
            "Epoch 329/500\n",
            "24/24 [==============================] - 0s 5ms/step - loss: 1.1880 - accuracy: 0.4760 - val_loss: 1.2228 - val_accuracy: 0.4524\n",
            "Epoch 330/500\n",
            "24/24 [==============================] - 0s 5ms/step - loss: 1.1865 - accuracy: 0.4756 - val_loss: 1.2231 - val_accuracy: 0.4497\n",
            "Epoch 331/500\n",
            "24/24 [==============================] - 0s 5ms/step - loss: 1.1863 - accuracy: 0.4741 - val_loss: 1.2240 - val_accuracy: 0.4425\n",
            "Epoch 332/500\n",
            "24/24 [==============================] - 0s 5ms/step - loss: 1.1874 - accuracy: 0.4761 - val_loss: 1.2231 - val_accuracy: 0.4435\n",
            "Epoch 333/500\n",
            "24/24 [==============================] - 0s 5ms/step - loss: 1.1868 - accuracy: 0.4777 - val_loss: 1.2245 - val_accuracy: 0.4483\n",
            "Epoch 334/500\n",
            "24/24 [==============================] - 0s 5ms/step - loss: 1.1876 - accuracy: 0.4755 - val_loss: 1.2231 - val_accuracy: 0.4510\n",
            "Epoch 335/500\n",
            "24/24 [==============================] - 0s 4ms/step - loss: 1.1865 - accuracy: 0.4790 - val_loss: 1.2242 - val_accuracy: 0.4490\n",
            "Epoch 336/500\n",
            "24/24 [==============================] - 0s 5ms/step - loss: 1.1873 - accuracy: 0.4785 - val_loss: 1.2237 - val_accuracy: 0.4497\n",
            "Epoch 337/500\n",
            "24/24 [==============================] - 0s 5ms/step - loss: 1.1877 - accuracy: 0.4766 - val_loss: 1.2255 - val_accuracy: 0.4500\n",
            "Epoch 338/500\n",
            "24/24 [==============================] - 0s 5ms/step - loss: 1.1876 - accuracy: 0.4785 - val_loss: 1.2238 - val_accuracy: 0.4507\n",
            "Epoch 339/500\n",
            "24/24 [==============================] - 0s 4ms/step - loss: 1.1872 - accuracy: 0.4756 - val_loss: 1.2238 - val_accuracy: 0.4445\n",
            "Epoch 340/500\n",
            "24/24 [==============================] - 0s 5ms/step - loss: 1.1864 - accuracy: 0.4751 - val_loss: 1.2223 - val_accuracy: 0.4493\n",
            "Epoch 341/500\n",
            "24/24 [==============================] - 0s 6ms/step - loss: 1.1866 - accuracy: 0.4771 - val_loss: 1.2227 - val_accuracy: 0.4521\n",
            "Epoch 342/500\n",
            "24/24 [==============================] - 0s 5ms/step - loss: 1.1854 - accuracy: 0.4800 - val_loss: 1.2225 - val_accuracy: 0.4483\n",
            "Epoch 343/500\n",
            "24/24 [==============================] - 0s 5ms/step - loss: 1.1868 - accuracy: 0.4755 - val_loss: 1.2217 - val_accuracy: 0.4462\n",
            "Epoch 344/500\n",
            "24/24 [==============================] - 0s 7ms/step - loss: 1.1868 - accuracy: 0.4760 - val_loss: 1.2228 - val_accuracy: 0.4483\n",
            "Epoch 345/500\n",
            "24/24 [==============================] - 0s 5ms/step - loss: 1.1868 - accuracy: 0.4719 - val_loss: 1.2228 - val_accuracy: 0.4404\n",
            "Epoch 346/500\n",
            "24/24 [==============================] - 0s 4ms/step - loss: 1.1890 - accuracy: 0.4748 - val_loss: 1.2226 - val_accuracy: 0.4510\n",
            "Epoch 347/500\n",
            "24/24 [==============================] - 0s 5ms/step - loss: 1.1870 - accuracy: 0.4792 - val_loss: 1.2223 - val_accuracy: 0.4442\n",
            "Epoch 348/500\n",
            "24/24 [==============================] - 0s 5ms/step - loss: 1.1851 - accuracy: 0.4768 - val_loss: 1.2246 - val_accuracy: 0.4431\n",
            "Epoch 349/500\n",
            "24/24 [==============================] - 0s 5ms/step - loss: 1.1870 - accuracy: 0.4775 - val_loss: 1.2250 - val_accuracy: 0.4473\n",
            "Epoch 350/500\n",
            "24/24 [==============================] - 0s 5ms/step - loss: 1.1876 - accuracy: 0.4749 - val_loss: 1.2222 - val_accuracy: 0.4404\n",
            "Epoch 351/500\n",
            "24/24 [==============================] - 0s 5ms/step - loss: 1.1859 - accuracy: 0.4807 - val_loss: 1.2229 - val_accuracy: 0.4421\n",
            "Epoch 352/500\n",
            "24/24 [==============================] - 0s 5ms/step - loss: 1.1853 - accuracy: 0.4797 - val_loss: 1.2227 - val_accuracy: 0.4486\n",
            "Epoch 353/500\n",
            "24/24 [==============================] - 0s 6ms/step - loss: 1.1860 - accuracy: 0.4773 - val_loss: 1.2235 - val_accuracy: 0.4466\n",
            "Epoch 354/500\n",
            "24/24 [==============================] - 0s 6ms/step - loss: 1.1865 - accuracy: 0.4773 - val_loss: 1.2221 - val_accuracy: 0.4514\n",
            "Epoch 355/500\n",
            "24/24 [==============================] - 0s 8ms/step - loss: 1.1859 - accuracy: 0.4773 - val_loss: 1.2230 - val_accuracy: 0.4497\n",
            "Epoch 356/500\n",
            "24/24 [==============================] - 0s 5ms/step - loss: 1.1857 - accuracy: 0.4751 - val_loss: 1.2216 - val_accuracy: 0.4476\n",
            "Epoch 357/500\n",
            "24/24 [==============================] - 0s 6ms/step - loss: 1.1857 - accuracy: 0.4736 - val_loss: 1.2221 - val_accuracy: 0.4517\n",
            "Epoch 358/500\n",
            "24/24 [==============================] - 0s 7ms/step - loss: 1.1861 - accuracy: 0.4746 - val_loss: 1.2213 - val_accuracy: 0.4473\n",
            "Epoch 359/500\n",
            "24/24 [==============================] - 0s 5ms/step - loss: 1.1858 - accuracy: 0.4792 - val_loss: 1.2222 - val_accuracy: 0.4510\n",
            "Epoch 360/500\n",
            "24/24 [==============================] - 0s 5ms/step - loss: 1.1854 - accuracy: 0.4816 - val_loss: 1.2222 - val_accuracy: 0.4486\n",
            "Epoch 361/500\n",
            "24/24 [==============================] - 0s 6ms/step - loss: 1.1851 - accuracy: 0.4800 - val_loss: 1.2216 - val_accuracy: 0.4452\n",
            "Epoch 362/500\n",
            "24/24 [==============================] - 0s 7ms/step - loss: 1.1862 - accuracy: 0.4771 - val_loss: 1.2209 - val_accuracy: 0.4473\n",
            "Epoch 363/500\n",
            "24/24 [==============================] - 0s 5ms/step - loss: 1.1860 - accuracy: 0.4758 - val_loss: 1.2219 - val_accuracy: 0.4438\n",
            "Epoch 364/500\n",
            "24/24 [==============================] - 0s 4ms/step - loss: 1.1877 - accuracy: 0.4765 - val_loss: 1.2226 - val_accuracy: 0.4490\n",
            "Epoch 365/500\n",
            "24/24 [==============================] - 0s 4ms/step - loss: 1.1858 - accuracy: 0.4799 - val_loss: 1.2210 - val_accuracy: 0.4435\n",
            "Epoch 366/500\n",
            "24/24 [==============================] - 0s 5ms/step - loss: 1.1855 - accuracy: 0.4797 - val_loss: 1.2237 - val_accuracy: 0.4476\n",
            "Epoch 367/500\n",
            "24/24 [==============================] - 0s 6ms/step - loss: 1.1857 - accuracy: 0.4773 - val_loss: 1.2205 - val_accuracy: 0.4514\n",
            "Epoch 368/500\n",
            "24/24 [==============================] - 0s 6ms/step - loss: 1.1844 - accuracy: 0.4770 - val_loss: 1.2218 - val_accuracy: 0.4504\n",
            "Epoch 369/500\n",
            "24/24 [==============================] - 0s 5ms/step - loss: 1.1858 - accuracy: 0.4739 - val_loss: 1.2218 - val_accuracy: 0.4528\n",
            "Epoch 370/500\n",
            "24/24 [==============================] - 0s 6ms/step - loss: 1.1845 - accuracy: 0.4812 - val_loss: 1.2216 - val_accuracy: 0.4473\n",
            "Epoch 371/500\n",
            "24/24 [==============================] - 0s 6ms/step - loss: 1.1863 - accuracy: 0.4756 - val_loss: 1.2247 - val_accuracy: 0.4493\n",
            "Epoch 372/500\n",
            "24/24 [==============================] - 0s 5ms/step - loss: 1.1861 - accuracy: 0.4765 - val_loss: 1.2235 - val_accuracy: 0.4476\n",
            "Epoch 373/500\n",
            "24/24 [==============================] - 0s 7ms/step - loss: 1.1848 - accuracy: 0.4802 - val_loss: 1.2219 - val_accuracy: 0.4469\n",
            "Epoch 374/500\n",
            "24/24 [==============================] - 0s 6ms/step - loss: 1.1854 - accuracy: 0.4785 - val_loss: 1.2212 - val_accuracy: 0.4514\n",
            "Epoch 375/500\n",
            "24/24 [==============================] - 0s 6ms/step - loss: 1.1852 - accuracy: 0.4804 - val_loss: 1.2226 - val_accuracy: 0.4507\n",
            "Epoch 376/500\n",
            "24/24 [==============================] - 0s 7ms/step - loss: 1.1844 - accuracy: 0.4816 - val_loss: 1.2210 - val_accuracy: 0.4473\n",
            "Epoch 377/500\n",
            "24/24 [==============================] - 0s 6ms/step - loss: 1.1843 - accuracy: 0.4800 - val_loss: 1.2204 - val_accuracy: 0.4486\n",
            "Epoch 378/500\n",
            "24/24 [==============================] - 0s 8ms/step - loss: 1.1854 - accuracy: 0.4782 - val_loss: 1.2218 - val_accuracy: 0.4449\n",
            "Epoch 379/500\n",
            "24/24 [==============================] - 0s 7ms/step - loss: 1.1847 - accuracy: 0.4797 - val_loss: 1.2210 - val_accuracy: 0.4469\n",
            "Epoch 380/500\n",
            "24/24 [==============================] - 0s 5ms/step - loss: 1.1846 - accuracy: 0.4797 - val_loss: 1.2208 - val_accuracy: 0.4486\n",
            "Epoch 381/500\n",
            "24/24 [==============================] - 0s 5ms/step - loss: 1.1844 - accuracy: 0.4775 - val_loss: 1.2207 - val_accuracy: 0.4507\n",
            "Epoch 382/500\n",
            "24/24 [==============================] - 0s 5ms/step - loss: 1.1846 - accuracy: 0.4812 - val_loss: 1.2203 - val_accuracy: 0.4490\n",
            "Epoch 383/500\n",
            "24/24 [==============================] - 0s 5ms/step - loss: 1.1843 - accuracy: 0.4780 - val_loss: 1.2222 - val_accuracy: 0.4493\n",
            "Epoch 384/500\n",
            "24/24 [==============================] - 0s 5ms/step - loss: 1.1842 - accuracy: 0.4790 - val_loss: 1.2209 - val_accuracy: 0.4486\n",
            "Epoch 385/500\n",
            "24/24 [==============================] - 0s 5ms/step - loss: 1.1845 - accuracy: 0.4814 - val_loss: 1.2212 - val_accuracy: 0.4480\n",
            "Epoch 386/500\n",
            "24/24 [==============================] - 0s 5ms/step - loss: 1.1841 - accuracy: 0.4778 - val_loss: 1.2211 - val_accuracy: 0.4490\n",
            "Epoch 387/500\n",
            "24/24 [==============================] - 0s 4ms/step - loss: 1.1841 - accuracy: 0.4768 - val_loss: 1.2208 - val_accuracy: 0.4504\n",
            "Epoch 388/500\n",
            "24/24 [==============================] - 0s 4ms/step - loss: 1.1836 - accuracy: 0.4807 - val_loss: 1.2218 - val_accuracy: 0.4510\n",
            "Epoch 389/500\n",
            "24/24 [==============================] - 0s 5ms/step - loss: 1.1839 - accuracy: 0.4790 - val_loss: 1.2229 - val_accuracy: 0.4493\n",
            "Epoch 390/500\n",
            "24/24 [==============================] - 0s 5ms/step - loss: 1.1842 - accuracy: 0.4782 - val_loss: 1.2227 - val_accuracy: 0.4514\n",
            "Epoch 391/500\n",
            "24/24 [==============================] - 0s 5ms/step - loss: 1.1863 - accuracy: 0.4763 - val_loss: 1.2215 - val_accuracy: 0.4459\n",
            "Epoch 392/500\n",
            "24/24 [==============================] - 0s 5ms/step - loss: 1.1854 - accuracy: 0.4777 - val_loss: 1.2235 - val_accuracy: 0.4452\n",
            "Epoch 393/500\n",
            "24/24 [==============================] - 0s 6ms/step - loss: 1.1861 - accuracy: 0.4763 - val_loss: 1.2203 - val_accuracy: 0.4490\n",
            "Epoch 394/500\n",
            "24/24 [==============================] - 0s 9ms/step - loss: 1.1872 - accuracy: 0.4768 - val_loss: 1.2214 - val_accuracy: 0.4504\n",
            "Epoch 395/500\n",
            "24/24 [==============================] - 0s 8ms/step - loss: 1.1843 - accuracy: 0.4782 - val_loss: 1.2212 - val_accuracy: 0.4473\n",
            "Epoch 396/500\n",
            "24/24 [==============================] - 0s 6ms/step - loss: 1.1871 - accuracy: 0.4765 - val_loss: 1.2224 - val_accuracy: 0.4459\n",
            "Epoch 397/500\n",
            "24/24 [==============================] - 0s 7ms/step - loss: 1.1846 - accuracy: 0.4792 - val_loss: 1.2208 - val_accuracy: 0.4469\n",
            "Epoch 398/500\n",
            "24/24 [==============================] - 0s 8ms/step - loss: 1.1832 - accuracy: 0.4800 - val_loss: 1.2210 - val_accuracy: 0.4486\n",
            "Epoch 399/500\n",
            "24/24 [==============================] - 0s 6ms/step - loss: 1.1841 - accuracy: 0.4788 - val_loss: 1.2214 - val_accuracy: 0.4452\n",
            "Epoch 400/500\n",
            "24/24 [==============================] - 0s 9ms/step - loss: 1.1832 - accuracy: 0.4814 - val_loss: 1.2218 - val_accuracy: 0.4473\n",
            "Epoch 401/500\n",
            "24/24 [==============================] - 0s 8ms/step - loss: 1.1846 - accuracy: 0.4763 - val_loss: 1.2214 - val_accuracy: 0.4466\n",
            "Epoch 402/500\n",
            "24/24 [==============================] - 0s 8ms/step - loss: 1.1851 - accuracy: 0.4738 - val_loss: 1.2216 - val_accuracy: 0.4486\n",
            "Epoch 403/500\n",
            "24/24 [==============================] - 0s 8ms/step - loss: 1.1850 - accuracy: 0.4768 - val_loss: 1.2209 - val_accuracy: 0.4500\n",
            "Epoch 404/500\n",
            "24/24 [==============================] - 0s 8ms/step - loss: 1.1853 - accuracy: 0.4785 - val_loss: 1.2221 - val_accuracy: 0.4476\n",
            "Epoch 405/500\n",
            "24/24 [==============================] - 0s 8ms/step - loss: 1.1829 - accuracy: 0.4797 - val_loss: 1.2211 - val_accuracy: 0.4452\n",
            "Epoch 406/500\n",
            "24/24 [==============================] - 0s 8ms/step - loss: 1.1835 - accuracy: 0.4817 - val_loss: 1.2207 - val_accuracy: 0.4438\n",
            "Epoch 407/500\n",
            "24/24 [==============================] - 0s 9ms/step - loss: 1.1835 - accuracy: 0.4819 - val_loss: 1.2209 - val_accuracy: 0.4428\n",
            "Epoch 408/500\n",
            "24/24 [==============================] - 0s 9ms/step - loss: 1.1831 - accuracy: 0.4785 - val_loss: 1.2218 - val_accuracy: 0.4425\n",
            "Epoch 409/500\n",
            "24/24 [==============================] - 0s 5ms/step - loss: 1.1838 - accuracy: 0.4775 - val_loss: 1.2216 - val_accuracy: 0.4480\n",
            "Epoch 410/500\n",
            "24/24 [==============================] - 0s 5ms/step - loss: 1.1840 - accuracy: 0.4773 - val_loss: 1.2214 - val_accuracy: 0.4428\n",
            "Epoch 411/500\n",
            "24/24 [==============================] - 0s 7ms/step - loss: 1.1835 - accuracy: 0.4795 - val_loss: 1.2214 - val_accuracy: 0.4438\n",
            "Epoch 412/500\n",
            "24/24 [==============================] - 0s 7ms/step - loss: 1.1838 - accuracy: 0.4768 - val_loss: 1.2208 - val_accuracy: 0.4493\n",
            "Epoch 413/500\n",
            "24/24 [==============================] - 0s 5ms/step - loss: 1.1835 - accuracy: 0.4819 - val_loss: 1.2207 - val_accuracy: 0.4490\n",
            "Epoch 414/500\n",
            "24/24 [==============================] - 0s 5ms/step - loss: 1.1831 - accuracy: 0.4821 - val_loss: 1.2207 - val_accuracy: 0.4500\n",
            "Epoch 415/500\n",
            "24/24 [==============================] - 0s 5ms/step - loss: 1.1844 - accuracy: 0.4790 - val_loss: 1.2215 - val_accuracy: 0.4473\n",
            "Epoch 416/500\n",
            "24/24 [==============================] - 0s 5ms/step - loss: 1.1841 - accuracy: 0.4807 - val_loss: 1.2209 - val_accuracy: 0.4504\n",
            "Epoch 417/500\n",
            "24/24 [==============================] - 0s 5ms/step - loss: 1.1846 - accuracy: 0.4777 - val_loss: 1.2233 - val_accuracy: 0.4521\n",
            "Epoch 418/500\n",
            "24/24 [==============================] - 0s 5ms/step - loss: 1.1841 - accuracy: 0.4770 - val_loss: 1.2254 - val_accuracy: 0.4510\n",
            "Epoch 419/500\n",
            "24/24 [==============================] - 0s 6ms/step - loss: 1.1866 - accuracy: 0.4766 - val_loss: 1.2215 - val_accuracy: 0.4497\n",
            "Epoch 420/500\n",
            "24/24 [==============================] - 0s 6ms/step - loss: 1.1862 - accuracy: 0.4778 - val_loss: 1.2214 - val_accuracy: 0.4445\n",
            "Epoch 421/500\n",
            "24/24 [==============================] - 0s 8ms/step - loss: 1.1836 - accuracy: 0.4778 - val_loss: 1.2205 - val_accuracy: 0.4456\n",
            "Epoch 422/500\n",
            "24/24 [==============================] - 0s 6ms/step - loss: 1.1834 - accuracy: 0.4802 - val_loss: 1.2203 - val_accuracy: 0.4462\n",
            "Epoch 423/500\n",
            "24/24 [==============================] - 0s 21ms/step - loss: 1.1830 - accuracy: 0.4783 - val_loss: 1.2232 - val_accuracy: 0.4480\n",
            "Epoch 424/500\n",
            "24/24 [==============================] - 0s 13ms/step - loss: 1.1846 - accuracy: 0.4799 - val_loss: 1.2191 - val_accuracy: 0.4445\n",
            "Epoch 425/500\n",
            "24/24 [==============================] - 0s 9ms/step - loss: 1.1823 - accuracy: 0.4826 - val_loss: 1.2212 - val_accuracy: 0.4490\n",
            "Epoch 426/500\n",
            "24/24 [==============================] - 0s 6ms/step - loss: 1.1826 - accuracy: 0.4799 - val_loss: 1.2215 - val_accuracy: 0.4462\n",
            "Epoch 427/500\n",
            "24/24 [==============================] - 0s 6ms/step - loss: 1.1865 - accuracy: 0.4775 - val_loss: 1.2203 - val_accuracy: 0.4483\n",
            "Epoch 428/500\n",
            "24/24 [==============================] - 0s 7ms/step - loss: 1.1824 - accuracy: 0.4812 - val_loss: 1.2198 - val_accuracy: 0.4452\n",
            "Epoch 429/500\n",
            "24/24 [==============================] - 0s 6ms/step - loss: 1.1838 - accuracy: 0.4802 - val_loss: 1.2210 - val_accuracy: 0.4507\n",
            "Epoch 430/500\n",
            "24/24 [==============================] - 0s 6ms/step - loss: 1.1834 - accuracy: 0.4778 - val_loss: 1.2240 - val_accuracy: 0.4469\n",
            "Epoch 431/500\n",
            "24/24 [==============================] - 0s 7ms/step - loss: 1.1838 - accuracy: 0.4783 - val_loss: 1.2197 - val_accuracy: 0.4476\n",
            "Epoch 432/500\n",
            "24/24 [==============================] - 0s 8ms/step - loss: 1.1832 - accuracy: 0.4819 - val_loss: 1.2189 - val_accuracy: 0.4486\n",
            "Epoch 433/500\n",
            "24/24 [==============================] - 0s 6ms/step - loss: 1.1832 - accuracy: 0.4819 - val_loss: 1.2213 - val_accuracy: 0.4442\n",
            "Epoch 434/500\n",
            "24/24 [==============================] - 0s 8ms/step - loss: 1.1828 - accuracy: 0.4765 - val_loss: 1.2197 - val_accuracy: 0.4490\n",
            "Epoch 435/500\n",
            "24/24 [==============================] - 0s 5ms/step - loss: 1.1833 - accuracy: 0.4766 - val_loss: 1.2206 - val_accuracy: 0.4425\n",
            "Epoch 436/500\n",
            "24/24 [==============================] - 0s 5ms/step - loss: 1.1822 - accuracy: 0.4797 - val_loss: 1.2212 - val_accuracy: 0.4462\n",
            "Epoch 437/500\n",
            "24/24 [==============================] - 0s 5ms/step - loss: 1.1821 - accuracy: 0.4826 - val_loss: 1.2198 - val_accuracy: 0.4480\n",
            "Epoch 438/500\n",
            "24/24 [==============================] - 0s 5ms/step - loss: 1.1836 - accuracy: 0.4821 - val_loss: 1.2202 - val_accuracy: 0.4445\n",
            "Epoch 439/500\n",
            "24/24 [==============================] - 0s 5ms/step - loss: 1.1827 - accuracy: 0.4834 - val_loss: 1.2197 - val_accuracy: 0.4493\n",
            "Epoch 440/500\n",
            "24/24 [==============================] - 0s 7ms/step - loss: 1.1842 - accuracy: 0.4758 - val_loss: 1.2215 - val_accuracy: 0.4394\n",
            "Epoch 441/500\n",
            "24/24 [==============================] - 0s 5ms/step - loss: 1.1821 - accuracy: 0.4821 - val_loss: 1.2209 - val_accuracy: 0.4480\n",
            "Epoch 442/500\n",
            "24/24 [==============================] - 0s 5ms/step - loss: 1.1835 - accuracy: 0.4812 - val_loss: 1.2206 - val_accuracy: 0.4490\n",
            "Epoch 443/500\n",
            "24/24 [==============================] - 0s 7ms/step - loss: 1.1832 - accuracy: 0.4804 - val_loss: 1.2204 - val_accuracy: 0.4500\n",
            "Epoch 444/500\n",
            "24/24 [==============================] - 0s 5ms/step - loss: 1.1826 - accuracy: 0.4782 - val_loss: 1.2219 - val_accuracy: 0.4524\n",
            "Epoch 445/500\n",
            "24/24 [==============================] - 0s 5ms/step - loss: 1.1829 - accuracy: 0.4805 - val_loss: 1.2215 - val_accuracy: 0.4493\n",
            "Epoch 446/500\n",
            "24/24 [==============================] - 0s 5ms/step - loss: 1.1827 - accuracy: 0.4819 - val_loss: 1.2200 - val_accuracy: 0.4480\n",
            "Epoch 447/500\n",
            "24/24 [==============================] - 0s 5ms/step - loss: 1.1832 - accuracy: 0.4778 - val_loss: 1.2199 - val_accuracy: 0.4517\n",
            "Epoch 448/500\n",
            "24/24 [==============================] - 0s 5ms/step - loss: 1.1825 - accuracy: 0.4807 - val_loss: 1.2199 - val_accuracy: 0.4490\n",
            "Epoch 449/500\n",
            "24/24 [==============================] - 0s 8ms/step - loss: 1.1820 - accuracy: 0.4797 - val_loss: 1.2199 - val_accuracy: 0.4459\n",
            "Epoch 450/500\n",
            "24/24 [==============================] - 0s 6ms/step - loss: 1.1823 - accuracy: 0.4826 - val_loss: 1.2192 - val_accuracy: 0.4483\n",
            "Epoch 451/500\n",
            "24/24 [==============================] - 0s 7ms/step - loss: 1.1825 - accuracy: 0.4773 - val_loss: 1.2196 - val_accuracy: 0.4473\n",
            "Epoch 452/500\n",
            "24/24 [==============================] - 0s 7ms/step - loss: 1.1817 - accuracy: 0.4834 - val_loss: 1.2208 - val_accuracy: 0.4486\n",
            "Epoch 453/500\n",
            "24/24 [==============================] - 0s 6ms/step - loss: 1.1842 - accuracy: 0.4763 - val_loss: 1.2196 - val_accuracy: 0.4425\n",
            "Epoch 454/500\n",
            "24/24 [==============================] - 0s 7ms/step - loss: 1.1826 - accuracy: 0.4790 - val_loss: 1.2201 - val_accuracy: 0.4500\n",
            "Epoch 455/500\n",
            "24/24 [==============================] - 0s 6ms/step - loss: 1.1816 - accuracy: 0.4797 - val_loss: 1.2187 - val_accuracy: 0.4456\n",
            "Epoch 456/500\n",
            "24/24 [==============================] - 0s 6ms/step - loss: 1.1826 - accuracy: 0.4819 - val_loss: 1.2201 - val_accuracy: 0.4473\n",
            "Epoch 457/500\n",
            "24/24 [==============================] - 0s 5ms/step - loss: 1.1824 - accuracy: 0.4799 - val_loss: 1.2192 - val_accuracy: 0.4425\n",
            "Epoch 458/500\n",
            "24/24 [==============================] - 0s 7ms/step - loss: 1.1831 - accuracy: 0.4807 - val_loss: 1.2205 - val_accuracy: 0.4510\n",
            "Epoch 459/500\n",
            "24/24 [==============================] - 0s 5ms/step - loss: 1.1817 - accuracy: 0.4795 - val_loss: 1.2193 - val_accuracy: 0.4490\n",
            "Epoch 460/500\n",
            "24/24 [==============================] - 0s 6ms/step - loss: 1.1819 - accuracy: 0.4826 - val_loss: 1.2190 - val_accuracy: 0.4538\n",
            "Epoch 461/500\n",
            "24/24 [==============================] - 0s 5ms/step - loss: 1.1841 - accuracy: 0.4785 - val_loss: 1.2221 - val_accuracy: 0.4425\n",
            "Epoch 462/500\n",
            "24/24 [==============================] - 0s 6ms/step - loss: 1.1824 - accuracy: 0.4805 - val_loss: 1.2197 - val_accuracy: 0.4476\n",
            "Epoch 463/500\n",
            "24/24 [==============================] - 0s 5ms/step - loss: 1.1817 - accuracy: 0.4812 - val_loss: 1.2190 - val_accuracy: 0.4469\n",
            "Epoch 464/500\n",
            "24/24 [==============================] - 0s 5ms/step - loss: 1.1813 - accuracy: 0.4817 - val_loss: 1.2206 - val_accuracy: 0.4435\n",
            "Epoch 465/500\n",
            "24/24 [==============================] - 0s 7ms/step - loss: 1.1833 - accuracy: 0.4777 - val_loss: 1.2191 - val_accuracy: 0.4500\n",
            "Epoch 466/500\n",
            "24/24 [==============================] - 0s 5ms/step - loss: 1.1829 - accuracy: 0.4807 - val_loss: 1.2196 - val_accuracy: 0.4517\n",
            "Epoch 467/500\n",
            "24/24 [==============================] - 0s 6ms/step - loss: 1.1814 - accuracy: 0.4797 - val_loss: 1.2190 - val_accuracy: 0.4497\n",
            "Epoch 468/500\n",
            "24/24 [==============================] - 0s 5ms/step - loss: 1.1811 - accuracy: 0.4816 - val_loss: 1.2188 - val_accuracy: 0.4480\n",
            "Epoch 469/500\n",
            "24/24 [==============================] - 0s 8ms/step - loss: 1.1813 - accuracy: 0.4812 - val_loss: 1.2185 - val_accuracy: 0.4456\n",
            "Epoch 470/500\n",
            "24/24 [==============================] - 0s 5ms/step - loss: 1.1810 - accuracy: 0.4849 - val_loss: 1.2197 - val_accuracy: 0.4507\n",
            "Epoch 471/500\n",
            "24/24 [==============================] - 0s 10ms/step - loss: 1.1817 - accuracy: 0.4780 - val_loss: 1.2205 - val_accuracy: 0.4473\n",
            "Epoch 472/500\n",
            "24/24 [==============================] - 0s 10ms/step - loss: 1.1820 - accuracy: 0.4780 - val_loss: 1.2192 - val_accuracy: 0.4469\n",
            "Epoch 473/500\n",
            "24/24 [==============================] - 0s 9ms/step - loss: 1.1813 - accuracy: 0.4807 - val_loss: 1.2215 - val_accuracy: 0.4493\n",
            "Epoch 474/500\n",
            "24/24 [==============================] - 0s 11ms/step - loss: 1.1823 - accuracy: 0.4792 - val_loss: 1.2184 - val_accuracy: 0.4510\n",
            "Epoch 475/500\n",
            "24/24 [==============================] - 0s 9ms/step - loss: 1.1811 - accuracy: 0.4832 - val_loss: 1.2189 - val_accuracy: 0.4473\n",
            "Epoch 476/500\n",
            "24/24 [==============================] - 0s 10ms/step - loss: 1.1812 - accuracy: 0.4816 - val_loss: 1.2187 - val_accuracy: 0.4490\n",
            "Epoch 477/500\n",
            "24/24 [==============================] - 0s 9ms/step - loss: 1.1818 - accuracy: 0.4788 - val_loss: 1.2203 - val_accuracy: 0.4514\n",
            "Epoch 478/500\n",
            "24/24 [==============================] - 0s 10ms/step - loss: 1.1827 - accuracy: 0.4787 - val_loss: 1.2192 - val_accuracy: 0.4510\n",
            "Epoch 479/500\n",
            "24/24 [==============================] - 0s 8ms/step - loss: 1.1818 - accuracy: 0.4780 - val_loss: 1.2194 - val_accuracy: 0.4480\n",
            "Epoch 480/500\n",
            "24/24 [==============================] - 0s 9ms/step - loss: 1.1818 - accuracy: 0.4812 - val_loss: 1.2237 - val_accuracy: 0.4449\n",
            "Epoch 481/500\n",
            "24/24 [==============================] - 0s 10ms/step - loss: 1.1825 - accuracy: 0.4812 - val_loss: 1.2194 - val_accuracy: 0.4504\n",
            "Epoch 482/500\n",
            "24/24 [==============================] - 0s 10ms/step - loss: 1.1813 - accuracy: 0.4766 - val_loss: 1.2185 - val_accuracy: 0.4462\n",
            "Epoch 483/500\n",
            "24/24 [==============================] - 0s 10ms/step - loss: 1.1818 - accuracy: 0.4821 - val_loss: 1.2190 - val_accuracy: 0.4535\n",
            "Epoch 484/500\n",
            "24/24 [==============================] - 0s 8ms/step - loss: 1.1809 - accuracy: 0.4802 - val_loss: 1.2195 - val_accuracy: 0.4500\n",
            "Epoch 485/500\n",
            "24/24 [==============================] - 0s 9ms/step - loss: 1.1810 - accuracy: 0.4788 - val_loss: 1.2183 - val_accuracy: 0.4473\n",
            "Epoch 486/500\n",
            "24/24 [==============================] - 0s 5ms/step - loss: 1.1809 - accuracy: 0.4816 - val_loss: 1.2178 - val_accuracy: 0.4486\n",
            "Epoch 487/500\n",
            "24/24 [==============================] - 0s 6ms/step - loss: 1.1809 - accuracy: 0.4807 - val_loss: 1.2224 - val_accuracy: 0.4445\n",
            "Epoch 488/500\n",
            "24/24 [==============================] - 0s 8ms/step - loss: 1.1823 - accuracy: 0.4804 - val_loss: 1.2183 - val_accuracy: 0.4504\n",
            "Epoch 489/500\n",
            "24/24 [==============================] - 0s 7ms/step - loss: 1.1830 - accuracy: 0.4782 - val_loss: 1.2204 - val_accuracy: 0.4438\n",
            "Epoch 490/500\n",
            "24/24 [==============================] - 0s 9ms/step - loss: 1.1813 - accuracy: 0.4805 - val_loss: 1.2203 - val_accuracy: 0.4486\n",
            "Epoch 491/500\n",
            "24/24 [==============================] - 0s 8ms/step - loss: 1.1813 - accuracy: 0.4821 - val_loss: 1.2174 - val_accuracy: 0.4507\n",
            "Epoch 492/500\n",
            "24/24 [==============================] - 0s 7ms/step - loss: 1.1814 - accuracy: 0.4782 - val_loss: 1.2202 - val_accuracy: 0.4493\n",
            "Epoch 493/500\n",
            "24/24 [==============================] - 0s 6ms/step - loss: 1.1818 - accuracy: 0.4763 - val_loss: 1.2196 - val_accuracy: 0.4445\n",
            "Epoch 494/500\n",
            "24/24 [==============================] - 0s 8ms/step - loss: 1.1814 - accuracy: 0.4827 - val_loss: 1.2215 - val_accuracy: 0.4431\n",
            "Epoch 495/500\n",
            "24/24 [==============================] - 0s 8ms/step - loss: 1.1854 - accuracy: 0.4711 - val_loss: 1.2212 - val_accuracy: 0.4497\n",
            "Epoch 496/500\n",
            "24/24 [==============================] - 0s 9ms/step - loss: 1.1816 - accuracy: 0.4797 - val_loss: 1.2209 - val_accuracy: 0.4507\n",
            "Epoch 497/500\n",
            "24/24 [==============================] - 0s 9ms/step - loss: 1.1826 - accuracy: 0.4790 - val_loss: 1.2180 - val_accuracy: 0.4466\n",
            "Epoch 498/500\n",
            "24/24 [==============================] - 0s 8ms/step - loss: 1.1829 - accuracy: 0.4760 - val_loss: 1.2190 - val_accuracy: 0.4500\n",
            "Epoch 499/500\n",
            "24/24 [==============================] - 0s 8ms/step - loss: 1.1815 - accuracy: 0.4799 - val_loss: 1.2187 - val_accuracy: 0.4480\n",
            "Epoch 500/500\n",
            "24/24 [==============================] - 0s 8ms/step - loss: 1.1807 - accuracy: 0.4819 - val_loss: 1.2188 - val_accuracy: 0.4497\n"
          ]
        },
        {
          "output_type": "execute_result",
          "data": {
            "text/plain": [
              "<keras.callbacks.History at 0x7b4abbab4430>"
            ]
          },
          "metadata": {},
          "execution_count": 43
        }
      ]
    },
    {
      "cell_type": "code",
      "source": [
        "metrics = pd.DataFrame(ai_brain.history.history)"
      ],
      "metadata": {
        "id": "TGHp8JS-fVIf"
      },
      "execution_count": 57,
      "outputs": []
    },
    {
      "cell_type": "code",
      "source": [
        "metrics.head()"
      ],
      "metadata": {
        "colab": {
          "base_uri": "https://localhost:8080/",
          "height": 221
        },
        "id": "h1HGaNkafVKv",
        "outputId": "d9f28d84-5b45-4a49-f3f1-fb08b6dd6638"
      },
      "execution_count": 58,
      "outputs": [
        {
          "output_type": "execute_result",
          "data": {
            "text/plain": [
              "       loss  accuracy  val_loss  val_accuracy\n",
              "0  3.294311  0.239506  2.270370      0.238063\n",
              "1  1.783547  0.242214  1.507431      0.241154\n",
              "2  1.452392  0.258802  1.425620      0.270354\n",
              "3  1.393036  0.287068  1.389673      0.295431\n",
              "4  1.365788  0.320921  1.367959      0.329097"
            ],
            "text/html": [
              "\n",
              "  <div id=\"df-67c13fad-5e47-4905-96b7-c9771ff2a18b\" class=\"colab-df-container\">\n",
              "    <div>\n",
              "<style scoped>\n",
              "    .dataframe tbody tr th:only-of-type {\n",
              "        vertical-align: middle;\n",
              "    }\n",
              "\n",
              "    .dataframe tbody tr th {\n",
              "        vertical-align: top;\n",
              "    }\n",
              "\n",
              "    .dataframe thead th {\n",
              "        text-align: right;\n",
              "    }\n",
              "</style>\n",
              "<table border=\"1\" class=\"dataframe\">\n",
              "  <thead>\n",
              "    <tr style=\"text-align: right;\">\n",
              "      <th></th>\n",
              "      <th>loss</th>\n",
              "      <th>accuracy</th>\n",
              "      <th>val_loss</th>\n",
              "      <th>val_accuracy</th>\n",
              "    </tr>\n",
              "  </thead>\n",
              "  <tbody>\n",
              "    <tr>\n",
              "      <th>0</th>\n",
              "      <td>3.294311</td>\n",
              "      <td>0.239506</td>\n",
              "      <td>2.270370</td>\n",
              "      <td>0.238063</td>\n",
              "    </tr>\n",
              "    <tr>\n",
              "      <th>1</th>\n",
              "      <td>1.783547</td>\n",
              "      <td>0.242214</td>\n",
              "      <td>1.507431</td>\n",
              "      <td>0.241154</td>\n",
              "    </tr>\n",
              "    <tr>\n",
              "      <th>2</th>\n",
              "      <td>1.452392</td>\n",
              "      <td>0.258802</td>\n",
              "      <td>1.425620</td>\n",
              "      <td>0.270354</td>\n",
              "    </tr>\n",
              "    <tr>\n",
              "      <th>3</th>\n",
              "      <td>1.393036</td>\n",
              "      <td>0.287068</td>\n",
              "      <td>1.389673</td>\n",
              "      <td>0.295431</td>\n",
              "    </tr>\n",
              "    <tr>\n",
              "      <th>4</th>\n",
              "      <td>1.365788</td>\n",
              "      <td>0.320921</td>\n",
              "      <td>1.367959</td>\n",
              "      <td>0.329097</td>\n",
              "    </tr>\n",
              "  </tbody>\n",
              "</table>\n",
              "</div>\n",
              "    <div class=\"colab-df-buttons\">\n",
              "\n",
              "  <div class=\"colab-df-container\">\n",
              "    <button class=\"colab-df-convert\" onclick=\"convertToInteractive('df-67c13fad-5e47-4905-96b7-c9771ff2a18b')\"\n",
              "            title=\"Convert this dataframe to an interactive table.\"\n",
              "            style=\"display:none;\">\n",
              "\n",
              "  <svg xmlns=\"http://www.w3.org/2000/svg\" height=\"24px\" viewBox=\"0 -960 960 960\">\n",
              "    <path d=\"M120-120v-720h720v720H120Zm60-500h600v-160H180v160Zm220 220h160v-160H400v160Zm0 220h160v-160H400v160ZM180-400h160v-160H180v160Zm440 0h160v-160H620v160ZM180-180h160v-160H180v160Zm440 0h160v-160H620v160Z\"/>\n",
              "  </svg>\n",
              "    </button>\n",
              "\n",
              "  <style>\n",
              "    .colab-df-container {\n",
              "      display:flex;\n",
              "      gap: 12px;\n",
              "    }\n",
              "\n",
              "    .colab-df-convert {\n",
              "      background-color: #E8F0FE;\n",
              "      border: none;\n",
              "      border-radius: 50%;\n",
              "      cursor: pointer;\n",
              "      display: none;\n",
              "      fill: #1967D2;\n",
              "      height: 32px;\n",
              "      padding: 0 0 0 0;\n",
              "      width: 32px;\n",
              "    }\n",
              "\n",
              "    .colab-df-convert:hover {\n",
              "      background-color: #E2EBFA;\n",
              "      box-shadow: 0px 1px 2px rgba(60, 64, 67, 0.3), 0px 1px 3px 1px rgba(60, 64, 67, 0.15);\n",
              "      fill: #174EA6;\n",
              "    }\n",
              "\n",
              "    .colab-df-buttons div {\n",
              "      margin-bottom: 4px;\n",
              "    }\n",
              "\n",
              "    [theme=dark] .colab-df-convert {\n",
              "      background-color: #3B4455;\n",
              "      fill: #D2E3FC;\n",
              "    }\n",
              "\n",
              "    [theme=dark] .colab-df-convert:hover {\n",
              "      background-color: #434B5C;\n",
              "      box-shadow: 0px 1px 3px 1px rgba(0, 0, 0, 0.15);\n",
              "      filter: drop-shadow(0px 1px 2px rgba(0, 0, 0, 0.3));\n",
              "      fill: #FFFFFF;\n",
              "    }\n",
              "  </style>\n",
              "\n",
              "    <script>\n",
              "      const buttonEl =\n",
              "        document.querySelector('#df-67c13fad-5e47-4905-96b7-c9771ff2a18b button.colab-df-convert');\n",
              "      buttonEl.style.display =\n",
              "        google.colab.kernel.accessAllowed ? 'block' : 'none';\n",
              "\n",
              "      async function convertToInteractive(key) {\n",
              "        const element = document.querySelector('#df-67c13fad-5e47-4905-96b7-c9771ff2a18b');\n",
              "        const dataTable =\n",
              "          await google.colab.kernel.invokeFunction('convertToInteractive',\n",
              "                                                    [key], {});\n",
              "        if (!dataTable) return;\n",
              "\n",
              "        const docLinkHtml = 'Like what you see? Visit the ' +\n",
              "          '<a target=\"_blank\" href=https://colab.research.google.com/notebooks/data_table.ipynb>data table notebook</a>'\n",
              "          + ' to learn more about interactive tables.';\n",
              "        element.innerHTML = '';\n",
              "        dataTable['output_type'] = 'display_data';\n",
              "        await google.colab.output.renderOutput(dataTable, element);\n",
              "        const docLink = document.createElement('div');\n",
              "        docLink.innerHTML = docLinkHtml;\n",
              "        element.appendChild(docLink);\n",
              "      }\n",
              "    </script>\n",
              "  </div>\n",
              "\n",
              "\n",
              "<div id=\"df-c47f9de9-93df-46c1-9506-325d4cc60e0f\">\n",
              "  <button class=\"colab-df-quickchart\" onclick=\"quickchart('df-c47f9de9-93df-46c1-9506-325d4cc60e0f')\"\n",
              "            title=\"Suggest charts.\"\n",
              "            style=\"display:none;\">\n",
              "\n",
              "<svg xmlns=\"http://www.w3.org/2000/svg\" height=\"24px\"viewBox=\"0 0 24 24\"\n",
              "     width=\"24px\">\n",
              "    <g>\n",
              "        <path d=\"M19 3H5c-1.1 0-2 .9-2 2v14c0 1.1.9 2 2 2h14c1.1 0 2-.9 2-2V5c0-1.1-.9-2-2-2zM9 17H7v-7h2v7zm4 0h-2V7h2v10zm4 0h-2v-4h2v4z\"/>\n",
              "    </g>\n",
              "</svg>\n",
              "  </button>\n",
              "\n",
              "<style>\n",
              "  .colab-df-quickchart {\n",
              "    background-color: #E8F0FE;\n",
              "    border: none;\n",
              "    border-radius: 50%;\n",
              "    cursor: pointer;\n",
              "    display: none;\n",
              "    fill: #1967D2;\n",
              "    height: 32px;\n",
              "    padding: 0 0 0 0;\n",
              "    width: 32px;\n",
              "  }\n",
              "\n",
              "  .colab-df-quickchart:hover {\n",
              "    background-color: #E2EBFA;\n",
              "    box-shadow: 0px 1px 2px rgba(60, 64, 67, 0.3), 0px 1px 3px 1px rgba(60, 64, 67, 0.15);\n",
              "    fill: #174EA6;\n",
              "  }\n",
              "\n",
              "  [theme=dark] .colab-df-quickchart {\n",
              "    background-color: #3B4455;\n",
              "    fill: #D2E3FC;\n",
              "  }\n",
              "\n",
              "  [theme=dark] .colab-df-quickchart:hover {\n",
              "    background-color: #434B5C;\n",
              "    box-shadow: 0px 1px 3px 1px rgba(0, 0, 0, 0.15);\n",
              "    filter: drop-shadow(0px 1px 2px rgba(0, 0, 0, 0.3));\n",
              "    fill: #FFFFFF;\n",
              "  }\n",
              "</style>\n",
              "\n",
              "  <script>\n",
              "    async function quickchart(key) {\n",
              "      const charts = await google.colab.kernel.invokeFunction(\n",
              "          'suggestCharts', [key], {});\n",
              "    }\n",
              "    (() => {\n",
              "      let quickchartButtonEl =\n",
              "        document.querySelector('#df-c47f9de9-93df-46c1-9506-325d4cc60e0f button');\n",
              "      quickchartButtonEl.style.display =\n",
              "        google.colab.kernel.accessAllowed ? 'block' : 'none';\n",
              "    })();\n",
              "  </script>\n",
              "</div>\n",
              "    </div>\n",
              "  </div>\n"
            ]
          },
          "metadata": {},
          "execution_count": 58
        }
      ]
    },
    {
      "cell_type": "code",
      "source": [
        "metrics[['accuracy','val_accuracy']].plot()"
      ],
      "metadata": {
        "id": "L42mv9g0e6rz",
        "colab": {
          "base_uri": "https://localhost:8080/",
          "height": 467
        },
        "outputId": "69291c88-25da-4e0d-f052-2b4a5a7ebf7a"
      },
      "execution_count": 59,
      "outputs": [
        {
          "output_type": "execute_result",
          "data": {
            "text/plain": [
              "<Axes: >"
            ]
          },
          "metadata": {},
          "execution_count": 59
        },
        {
          "output_type": "display_data",
          "data": {
            "text/plain": [
              "<Figure size 640x480 with 1 Axes>"
            ],
            "image/png": "[encoded data removed]"
          },
          "metadata": {}
        }
      ]
    },
    {
      "cell_type": "code",
      "source": [
        "metrics[['loss','val_loss']].plot()"
      ],
      "metadata": {
        "colab": {
          "base_uri": "https://localhost:8080/",
          "height": 467
        },
        "id": "g7uBLpKhioUl",
        "outputId": "688bbfdd-ca14-4b37-8b8d-1d6990eb8c30"
      },
      "execution_count": 60,
      "outputs": [
        {
          "output_type": "execute_result",
          "data": {
            "text/plain": [
              "<Axes: >"
            ]
          },
          "metadata": {},
          "execution_count": 60
        },
        {
          "output_type": "display_data",
          "data": {
            "text/plain": [
              "<Figure size 640x480 with 1 Axes>"
            ],
            "image/png": "[encoded data removed]"
          },
          "metadata": {}
        }
      ]
    },
    {
      "cell_type": "code",
      "source": [
        "# Sequential predict_classes function is deprecated\n",
        "# predictions = ai_brain.predict_classes(X_test)\n",
        "x_test_predictions = np.argmax(ai_brain.predict(X_test_scaled), axis=1)"
      ],
      "metadata": {
        "colab": {
          "base_uri": "https://localhost:8080/"
        },
        "id": "PqjMZ4hKioWH",
        "outputId": "d7caf854-2b7d-4a06-8af2-2606fa4de0a6"
      },
      "execution_count": 61,
      "outputs": [
        {
          "output_type": "stream",
          "name": "stdout",
          "text": [
            "91/91 [==============================] - 0s 1ms/step\n"
          ]
        }
      ]
    },
    {
      "cell_type": "code",
      "source": [
        "x_test_predictions.shape"
      ],
      "metadata": {
        "colab": {
          "base_uri": "https://localhost:8080/"
        },
        "id": "mhHNsx3ZioXg",
        "outputId": "2651d625-741c-425e-e94a-6676690f1434"
      },
      "execution_count": 62,
      "outputs": [
        {
          "output_type": "execute_result",
          "data": {
            "text/plain": [
              "(2911,)"
            ]
          },
          "metadata": {},
          "execution_count": 62
        }
      ]
    },
    {
      "cell_type": "code",
      "source": [
        "y_test_truevalue = np.argmax(y_test,axis=1)\n",
        "\n",
        "y_test_truevalue.shape"
      ],
      "metadata": {
        "colab": {
          "base_uri": "https://localhost:8080/"
        },
        "id": "aDx9QJ8wioZz",
        "outputId": "4e465d74-43d8-41d4-8aab-c60048ff4633"
      },
      "execution_count": 63,
      "outputs": [
        {
          "output_type": "execute_result",
          "data": {
            "text/plain": [
              "(2911,)"
            ]
          },
          "metadata": {},
          "execution_count": 63
        }
      ]
    },
    {
      "cell_type": "code",
      "source": [
        "print(confusion_matrix(y_test_truevalue,x_test_predictions))"
      ],
      "metadata": {
        "colab": {
          "base_uri": "https://localhost:8080/"
        },
        "id": "ycWBswVgiocW",
        "outputId": "3cf93bb9-491a-4e9f-ff8e-9882a2c0245e"
      },
      "execution_count": 64,
      "outputs": [
        {
          "output_type": "stream",
          "name": "stdout",
          "text": [
            "[[371 107 123 156]\n",
            " [249 115 227  95]\n",
            " [141  97 361  87]\n",
            " [202  54  64 462]]\n"
          ]
        }
      ]
    },
    {
      "cell_type": "code",
      "source": [
        "print(classification_report(y_test_truevalue,x_test_predictions))"
      ],
      "metadata": {
        "colab": {
          "base_uri": "https://localhost:8080/"
        },
        "id": "y5xUOZdli9ie",
        "outputId": "fb832c99-8e23-4c4b-866a-3356140f9f3c"
      },
      "execution_count": 65,
      "outputs": [
        {
          "output_type": "stream",
          "name": "stdout",
          "text": [
            "              precision    recall  f1-score   support\n",
            "\n",
            "           0       0.39      0.49      0.43       757\n",
            "           1       0.31      0.17      0.22       686\n",
            "           2       0.47      0.53      0.49       686\n",
            "           3       0.58      0.59      0.58       782\n",
            "\n",
            "    accuracy                           0.45      2911\n",
            "   macro avg       0.43      0.44      0.43      2911\n",
            "weighted avg       0.44      0.45      0.44      2911\n",
            "\n"
          ]
        }
      ]
    },
    {
      "cell_type": "code",
      "source": [
        "# Saving the Model\n",
        "ai_brain.save('customer_classification_model.h5')"
      ],
      "metadata": {
        "id": "7zZECp0ii9ka"
      },
      "execution_count": 66,
      "outputs": []
    },
    {
      "cell_type": "code",
      "source": [
        "# Saving the data\n",
        "with open('customer_data.pickle', 'wb') as fh:\n",
        "   pickle.dump([X_train_scaled,y_train,X_test_scaled,y_test,customers_1,customer_df_cleaned,scaler_age,enc,one_hot_enc,le], fh)"
      ],
      "metadata": {
        "id": "O8lKf7Czi9nC"
      },
      "execution_count": 67,
      "outputs": []
    },
    {
      "cell_type": "code",
      "source": [
        "# Loading the Model\n",
        "ai_brain = load_model('customer_classification_model.h5')"
      ],
      "metadata": {
        "id": "jsq0LE3ki9pZ"
      },
      "execution_count": 68,
      "outputs": []
    },
    {
      "cell_type": "code",
      "source": [
        "# Loading the data\n",
        "with open('customer_data.pickle', 'rb') as fh:\n",
        "   [X_train_scaled,y_train,X_test_scaled,y_test,customers_1,customer_df_cleaned,scaler_age,enc,one_hot_enc,le]=pickle.load(fh)"
      ],
      "metadata": {
        "id": "Wqc6pxKUjVf8"
      },
      "execution_count": 69,
      "outputs": []
    },
    {
      "cell_type": "markdown",
      "source": [
        "## Prediction for a single input"
      ],
      "metadata": {
        "id": "ie4SZ5HGjc5u"
      }
    },
    {
      "cell_type": "code",
      "source": [
        "x_single_prediction = np.argmax(ai_brain.predict(X_test_scaled[1:2,:]), axis=1)"
      ],
      "metadata": {
        "colab": {
          "base_uri": "https://localhost:8080/"
        },
        "id": "9NAp-HuKjVhk",
        "outputId": "a6adea9a-b571-4e63-dede-778fb68e64fb"
      },
      "execution_count": 70,
      "outputs": [
        {
          "output_type": "stream",
          "name": "stdout",
          "text": [
            "1/1 [==============================] - 0s 218ms/step\n"
          ]
        }
      ]
    },
    {
      "cell_type": "code",
      "source": [
        "print(x_single_prediction)"
      ],
      "metadata": {
        "colab": {
          "base_uri": "https://localhost:8080/"
        },
        "id": "yJ_HD0ahjVjo",
        "outputId": "f4c44921-7beb-4e8f-d10b-a92aabd1cf46"
      },
      "execution_count": 71,
      "outputs": [
        {
          "output_type": "stream",
          "name": "stdout",
          "text": [
            "[2]\n"
          ]
        }
      ]
    },
    {
      "cell_type": "code",
      "source": [
        "print(le.inverse_transform(x_single_prediction))"
      ],
      "metadata": {
        "colab": {
          "base_uri": "https://localhost:8080/"
        },
        "id": "CZX3QlLPjVlq",
        "outputId": "70b40c6e-b0e3-4506-9704-f0edf224e27d"
      },
      "execution_count": 72,
      "outputs": [
        {
          "output_type": "stream",
          "name": "stdout",
          "text": [
            "['C']\n"
          ]
        }
      ]
    }
  ]
}